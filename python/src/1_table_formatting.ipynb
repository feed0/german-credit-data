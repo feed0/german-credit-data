{
 "cells": [
  {
   "cell_type": "markdown",
   "id": "15e0186b",
   "metadata": {},
   "source": [
    "# `1 Table formatting`\n",
    "\n",
    "<ol start=0>\n",
    "    <li>Libraries and constants</li>\n",
    "    <li>Add description to the columns</li>\n",
    "    <li>Dtypes</li>\n",
    "<ol>"
   ]
  },
  {
   "cell_type": "markdown",
   "id": "c613f4f3",
   "metadata": {},
   "source": [
    "## 1.0 Libraries and constants"
   ]
  },
  {
   "cell_type": "code",
   "execution_count": 1,
   "id": "9ec6d3dc",
   "metadata": {
    "ExecuteTime": {
     "end_time": "2025-08-06T21:09:45.782064Z",
     "start_time": "2025-08-06T21:09:45.458133Z"
    }
   },
   "outputs": [],
   "source": [
    "# Libraries\n",
    "import pandas as pd\n",
    "\n",
    "# Project utils\n",
    "from utils.data_utils   import map_column_inplace\n",
    "from utils.memory       import MemoryUsageTracker\n",
    "from utils.data_utils   import column_map"
   ]
  },
  {
   "cell_type": "code",
   "execution_count": 2,
   "id": "749eaad4",
   "metadata": {
    "ExecuteTime": {
     "end_time": "2025-08-06T21:09:45.807499Z",
     "start_time": "2025-08-06T21:09:45.791899Z"
    }
   },
   "outputs": [],
   "source": [
    "# Constants\n",
    "COLUMNS_PATH                = \"data/metadata/columns.csv\"\n",
    "COLUMNS                     = pd.read_csv(COLUMNS_PATH, index_col=0)\n",
    "\n",
    "DTYPES                      = COLUMNS.dtype\n",
    "\n",
    "CLASSES_PATH                = \"data/metadata/classes.csv\"\n",
    "CLASSES                     = pd.read_csv(CLASSES_PATH, index_col=0)\n",
    "\n",
    "GERMAN_CREDIT_DATA_PATH     = \"data/statlog+german+credit+data/german.data\"\n",
    "GERMAN_CREDIT_DATA          = pd.read_csv(GERMAN_CREDIT_DATA_PATH, sep=' ', header=None)"
   ]
  },
  {
   "cell_type": "markdown",
   "id": "19ddc11b",
   "metadata": {},
   "source": [
    "## 1.1 Add description to the columns"
   ]
  },
  {
   "cell_type": "code",
   "execution_count": 3,
   "id": "82d1ab16",
   "metadata": {
    "ExecuteTime": {
     "end_time": "2025-08-06T21:09:45.816424Z",
     "start_time": "2025-08-06T21:09:45.812353Z"
    }
   },
   "outputs": [],
   "source": [
    "# Preserve the original data\n",
    "german_credit_data = GERMAN_CREDIT_DATA.copy()"
   ]
  },
  {
   "cell_type": "code",
   "execution_count": 4,
   "id": "2a66d963",
   "metadata": {},
   "outputs": [],
   "source": [
    "# Update column names with COLUMNS.index\n",
    "german_credit_data.columns = COLUMNS.index"
   ]
  },
  {
   "cell_type": "code",
   "execution_count": 5,
   "id": "19b5de9f",
   "metadata": {},
   "outputs": [
    {
     "name": "stdout",
     "output_type": "stream",
     "text": [
      "A1 - Status of existing checking account\n",
      "A2 - Duration in month\n",
      "A3 - Credit history\n",
      "A4 - Purpose\n",
      "A5 - Credit amount\n",
      "A6 - Savings account/bonds\n",
      "A7 - Present employment since\n",
      "A8 - Installment rate in percentage of disposable income\n",
      "A9 - Personal status and sex\n",
      "A10 - Other debtors/guarantors\n",
      "A11 - Present residence since\n",
      "A12 - Property\n",
      "A13 - Age in years\n",
      "A14 - Other installment plans\n",
      "A15 - Housing\n",
      "A16 - Number of existing credits at this bank\n",
      "A17 - Job\n",
      "A18 - Number of people being liable to provide maintenance for\n",
      "A19 - Telephone\n",
      "A20 - Foreign worker\n",
      "T1 - Is good credit\n"
     ]
    }
   ],
   "source": [
    "# Column names\n",
    "for column in german_credit_data.columns:\n",
    "    print(column)"
   ]
  },
  {
   "cell_type": "markdown",
   "id": "165ee3e6",
   "metadata": {},
   "source": [
    "## 1.2 Dtypes"
   ]
  },
  {
   "cell_type": "code",
   "execution_count": 6,
   "id": "c8852065",
   "metadata": {
    "ExecuteTime": {
     "end_time": "2025-08-06T21:09:45.891514Z",
     "start_time": "2025-08-06T21:09:45.889870Z"
    }
   },
   "outputs": [],
   "source": [
    "# Track dtypes evolution\n",
    "dtypes_evolution = pd.DataFrame()\n",
    "dtypes_evolution = pd.concat([dtypes_evolution, german_credit_data.dtypes], axis=1)"
   ]
  },
  {
   "cell_type": "code",
   "execution_count": 7,
   "id": "84512524",
   "metadata": {
    "ExecuteTime": {
     "end_time": "2025-08-06T21:09:46.069254Z",
     "start_time": "2025-08-06T21:09:46.064422Z"
    }
   },
   "outputs": [],
   "source": [
    "# Track memory usage at first\n",
    "memory_tracker = MemoryUsageTracker(german_credit_data.memory_usage(deep=True).sum())"
   ]
  },
  {
   "cell_type": "code",
   "execution_count": 8,
   "id": "a37649ca",
   "metadata": {},
   "outputs": [
    {
     "name": "stdout",
     "output_type": "stream",
     "text": [
      "<class 'pandas.core.frame.DataFrame'>\n",
      "RangeIndex: 1000 entries, 0 to 999\n",
      "Data columns (total 3 columns):\n",
      " #   Column                Non-Null Count  Dtype \n",
      "---  ------                --------------  ----- \n",
      " 0   A19 - Telephone       1000 non-null   object\n",
      " 1   A20 - Foreign worker  1000 non-null   object\n",
      " 2   T1 - Is good credit   1000 non-null   int64 \n",
      "dtypes: int64(1), object(2)\n",
      "memory usage: 23.6+ KB\n"
     ]
    }
   ],
   "source": [
    "# Dtypes before conversion\n",
    "boolean_columns = ['A19 - Telephone',\n",
    "                   'A20 - Foreign worker',\n",
    "                   'T1 - Is good credit']\n",
    "\n",
    "german_credit_data[boolean_columns].info()"
   ]
  },
  {
   "cell_type": "code",
   "execution_count": 9,
   "id": "5af295e7",
   "metadata": {
    "ExecuteTime": {
     "end_time": "2025-08-06T21:09:46.108875Z",
     "start_time": "2025-08-06T21:09:46.094918Z"
    }
   },
   "outputs": [],
   "source": [
    "from utils.data_utils import column_map"
   ]
  },
  {
   "cell_type": "code",
   "execution_count": 10,
   "id": "bb801445",
   "metadata": {},
   "outputs": [],
   "source": [
    "# Map boolean columns\n",
    "for (column, boolean_map) in column_map.items():\n",
    "    map_column_inplace(\n",
    "        df          = german_credit_data,\n",
    "        column      = column,\n",
    "        value_map   = boolean_map\n",
    "    )"
   ]
  },
  {
   "cell_type": "code",
   "execution_count": 11,
   "id": "4d6597f1",
   "metadata": {},
   "outputs": [
    {
     "name": "stdout",
     "output_type": "stream",
     "text": [
      "<class 'pandas.core.frame.DataFrame'>\n",
      "RangeIndex: 1000 entries, 0 to 999\n",
      "Data columns (total 3 columns):\n",
      " #   Column                Non-Null Count  Dtype\n",
      "---  ------                --------------  -----\n",
      " 0   A19 - Telephone       1000 non-null   bool \n",
      " 1   A20 - Foreign worker  1000 non-null   bool \n",
      " 2   T1 - Is good credit   1000 non-null   bool \n",
      "dtypes: bool(3)\n",
      "memory usage: 3.1 KB\n"
     ]
    }
   ],
   "source": [
    "# Dtypes after conversion\n",
    "german_credit_data[boolean_columns].info()"
   ]
  },
  {
   "cell_type": "code",
   "execution_count": 12,
   "id": "ca72693c",
   "metadata": {},
   "outputs": [],
   "source": [
    "## 2 Convert dtypes ----------------------------------------------------------------------------------------------\n",
    "for column in german_credit_data.columns:\n",
    "    german_credit_data[column] = german_credit_data[column].astype(DTYPES[column])"
   ]
  },
  {
   "cell_type": "code",
   "execution_count": 13,
   "id": "3cd0f4e1",
   "metadata": {
    "ExecuteTime": {
     "end_time": "2025-08-06T21:09:46.126002Z",
     "start_time": "2025-08-06T21:09:46.123556Z"
    }
   },
   "outputs": [],
   "source": [
    "# Append dtypes evolution\n",
    "dtypes_evolution = pd.concat([dtypes_evolution, german_credit_data.dtypes], axis=1)\n",
    "\n",
    "# Name columns of dtypes_evolution\n",
    "dtypes_evolution.columns = ['Initial', 'After mapping']"
   ]
  },
  {
   "cell_type": "code",
   "execution_count": 14,
   "id": "4abd23b0",
   "metadata": {
    "ExecuteTime": {
     "end_time": "2025-08-06T21:09:46.142587Z",
     "start_time": "2025-08-06T21:09:46.138708Z"
    }
   },
   "outputs": [
    {
     "data": {
      "application/vnd.microsoft.datawrangler.viewer.v0+json": {
       "columns": [
        {
         "name": "index",
         "rawType": "object",
         "type": "string"
        },
        {
         "name": "Initial",
         "rawType": "object",
         "type": "unknown"
        },
        {
         "name": "After mapping",
         "rawType": "object",
         "type": "unknown"
        }
       ],
       "ref": "e9a51f49-4116-4c63-ac63-d4cbaa8821fb",
       "rows": [
        [
         "A1 - Status of existing checking account",
         "object",
         "category"
        ],
        [
         "A3 - Credit history",
         "object",
         "category"
        ],
        [
         "A4 - Purpose",
         "object",
         "category"
        ],
        [
         "A6 - Savings account/bonds",
         "object",
         "category"
        ],
        [
         "A7 - Present employment since",
         "object",
         "category"
        ],
        [
         "A8 - Installment rate in percentage of disposable income",
         "int64",
         "category"
        ],
        [
         "A9 - Personal status and sex",
         "object",
         "category"
        ],
        [
         "A10 - Other debtors/guarantors",
         "object",
         "category"
        ],
        [
         "A12 - Property",
         "object",
         "category"
        ],
        [
         "A14 - Other installment plans",
         "object",
         "category"
        ],
        [
         "A15 - Housing",
         "object",
         "category"
        ],
        [
         "A17 - Job",
         "object",
         "category"
        ],
        [
         "A19 - Telephone",
         "object",
         "bool"
        ],
        [
         "A20 - Foreign worker",
         "object",
         "bool"
        ],
        [
         "T1 - Is good credit",
         "int64",
         "bool"
        ]
       ],
       "shape": {
        "columns": 2,
        "rows": 15
       }
      },
      "text/html": [
       "<div>\n",
       "<style scoped>\n",
       "    .dataframe tbody tr th:only-of-type {\n",
       "        vertical-align: middle;\n",
       "    }\n",
       "\n",
       "    .dataframe tbody tr th {\n",
       "        vertical-align: top;\n",
       "    }\n",
       "\n",
       "    .dataframe thead th {\n",
       "        text-align: right;\n",
       "    }\n",
       "</style>\n",
       "<table border=\"1\" class=\"dataframe\">\n",
       "  <thead>\n",
       "    <tr style=\"text-align: right;\">\n",
       "      <th></th>\n",
       "      <th>Initial</th>\n",
       "      <th>After mapping</th>\n",
       "    </tr>\n",
       "  </thead>\n",
       "  <tbody>\n",
       "    <tr>\n",
       "      <th>A1 - Status of existing checking account</th>\n",
       "      <td>object</td>\n",
       "      <td>category</td>\n",
       "    </tr>\n",
       "    <tr>\n",
       "      <th>A3 - Credit history</th>\n",
       "      <td>object</td>\n",
       "      <td>category</td>\n",
       "    </tr>\n",
       "    <tr>\n",
       "      <th>A4 - Purpose</th>\n",
       "      <td>object</td>\n",
       "      <td>category</td>\n",
       "    </tr>\n",
       "    <tr>\n",
       "      <th>A6 - Savings account/bonds</th>\n",
       "      <td>object</td>\n",
       "      <td>category</td>\n",
       "    </tr>\n",
       "    <tr>\n",
       "      <th>A7 - Present employment since</th>\n",
       "      <td>object</td>\n",
       "      <td>category</td>\n",
       "    </tr>\n",
       "    <tr>\n",
       "      <th>A8 - Installment rate in percentage of disposable income</th>\n",
       "      <td>int64</td>\n",
       "      <td>category</td>\n",
       "    </tr>\n",
       "    <tr>\n",
       "      <th>A9 - Personal status and sex</th>\n",
       "      <td>object</td>\n",
       "      <td>category</td>\n",
       "    </tr>\n",
       "    <tr>\n",
       "      <th>A10 - Other debtors/guarantors</th>\n",
       "      <td>object</td>\n",
       "      <td>category</td>\n",
       "    </tr>\n",
       "    <tr>\n",
       "      <th>A12 - Property</th>\n",
       "      <td>object</td>\n",
       "      <td>category</td>\n",
       "    </tr>\n",
       "    <tr>\n",
       "      <th>A14 - Other installment plans</th>\n",
       "      <td>object</td>\n",
       "      <td>category</td>\n",
       "    </tr>\n",
       "    <tr>\n",
       "      <th>A15 - Housing</th>\n",
       "      <td>object</td>\n",
       "      <td>category</td>\n",
       "    </tr>\n",
       "    <tr>\n",
       "      <th>A17 - Job</th>\n",
       "      <td>object</td>\n",
       "      <td>category</td>\n",
       "    </tr>\n",
       "    <tr>\n",
       "      <th>A19 - Telephone</th>\n",
       "      <td>object</td>\n",
       "      <td>bool</td>\n",
       "    </tr>\n",
       "    <tr>\n",
       "      <th>A20 - Foreign worker</th>\n",
       "      <td>object</td>\n",
       "      <td>bool</td>\n",
       "    </tr>\n",
       "    <tr>\n",
       "      <th>T1 - Is good credit</th>\n",
       "      <td>int64</td>\n",
       "      <td>bool</td>\n",
       "    </tr>\n",
       "  </tbody>\n",
       "</table>\n",
       "</div>"
      ],
      "text/plain": [
       "                                                   Initial After mapping\n",
       "A1 - Status of existing checking account            object      category\n",
       "A3 - Credit history                                 object      category\n",
       "A4 - Purpose                                        object      category\n",
       "A6 - Savings account/bonds                          object      category\n",
       "A7 - Present employment since                       object      category\n",
       "A8 - Installment rate in percentage of disposab...   int64      category\n",
       "A9 - Personal status and sex                        object      category\n",
       "A10 - Other debtors/guarantors                      object      category\n",
       "A12 - Property                                      object      category\n",
       "A14 - Other installment plans                       object      category\n",
       "A15 - Housing                                       object      category\n",
       "A17 - Job                                           object      category\n",
       "A19 - Telephone                                     object          bool\n",
       "A20 - Foreign worker                                object          bool\n",
       "T1 - Is good credit                                  int64          bool"
      ]
     },
     "execution_count": 14,
     "metadata": {},
     "output_type": "execute_result"
    }
   ],
   "source": [
    "dtypes_evolution[where_changed := dtypes_evolution['Initial'] != dtypes_evolution['After mapping']]"
   ]
  },
  {
   "cell_type": "code",
   "execution_count": 15,
   "id": "77b362af",
   "metadata": {
    "ExecuteTime": {
     "end_time": "2025-08-06T21:09:46.168640Z",
     "start_time": "2025-08-06T21:09:46.165740Z"
    }
   },
   "outputs": [],
   "source": [
    "# Update memory usage tracker\n",
    "memory_tracker.update(german_credit_data.memory_usage(deep=True).sum())\n",
    "\n",
    "# Visualize memory usage as a DataFrame\n",
    "memory_usage_df = pd.DataFrame({\n",
    "    'Previous usage (bytes)': [memory_tracker.previous],\n",
    "    'Current usage (bytes)': [memory_tracker.latest],\n",
    "    'Difference (bytes)': [memory_tracker.diff],\n",
    "    'Difference (%)': [(memory_tracker.diff / memory_tracker.previous) * 100 if memory_tracker.previous else None]\n",
    "})\n",
    "\n",
    "memory_usage_df = memory_usage_df.T\n",
    "memory_usage_df.columns = ['Memory Usage']"
   ]
  },
  {
   "cell_type": "code",
   "execution_count": 16,
   "id": "28b4a108",
   "metadata": {
    "ExecuteTime": {
     "end_time": "2025-08-06T21:09:46.345330Z",
     "start_time": "2025-08-06T21:09:46.336398Z"
    }
   },
   "outputs": [
    {
     "data": {
      "application/vnd.microsoft.datawrangler.viewer.v0+json": {
       "columns": [
        {
         "name": "index",
         "rawType": "object",
         "type": "string"
        },
        {
         "name": "Memory Usage",
         "rawType": "float64",
         "type": "float"
        }
       ],
       "ref": "0e864e4c-ed1e-44ab-a6cd-8593ecbdd0ed",
       "rows": [
        [
         "Previous usage (bytes)",
         "747144.0"
        ],
        [
         "Current usage (bytes)",
         "67782.0"
        ],
        [
         "Difference (bytes)",
         "-679362.0"
        ],
        [
         "Difference (%)",
         "-90.92785326523402"
        ]
       ],
       "shape": {
        "columns": 1,
        "rows": 4
       }
      },
      "text/html": [
       "<div>\n",
       "<style scoped>\n",
       "    .dataframe tbody tr th:only-of-type {\n",
       "        vertical-align: middle;\n",
       "    }\n",
       "\n",
       "    .dataframe tbody tr th {\n",
       "        vertical-align: top;\n",
       "    }\n",
       "\n",
       "    .dataframe thead th {\n",
       "        text-align: right;\n",
       "    }\n",
       "</style>\n",
       "<table border=\"1\" class=\"dataframe\">\n",
       "  <thead>\n",
       "    <tr style=\"text-align: right;\">\n",
       "      <th></th>\n",
       "      <th>Memory Usage</th>\n",
       "    </tr>\n",
       "  </thead>\n",
       "  <tbody>\n",
       "    <tr>\n",
       "      <th>Previous usage (bytes)</th>\n",
       "      <td>747144.000000</td>\n",
       "    </tr>\n",
       "    <tr>\n",
       "      <th>Current usage (bytes)</th>\n",
       "      <td>67782.000000</td>\n",
       "    </tr>\n",
       "    <tr>\n",
       "      <th>Difference (bytes)</th>\n",
       "      <td>-679362.000000</td>\n",
       "    </tr>\n",
       "    <tr>\n",
       "      <th>Difference (%)</th>\n",
       "      <td>-90.927853</td>\n",
       "    </tr>\n",
       "  </tbody>\n",
       "</table>\n",
       "</div>"
      ],
      "text/plain": [
       "                         Memory Usage\n",
       "Previous usage (bytes)  747144.000000\n",
       "Current usage (bytes)    67782.000000\n",
       "Difference (bytes)     -679362.000000\n",
       "Difference (%)             -90.927853"
      ]
     },
     "execution_count": 16,
     "metadata": {},
     "output_type": "execute_result"
    }
   ],
   "source": [
    "memory_usage_df.head()"
   ]
  },
  {
   "cell_type": "markdown",
   "id": "d233ab79",
   "metadata": {},
   "source": [
    "# TEST"
   ]
  },
  {
   "cell_type": "code",
   "execution_count": 17,
   "id": "32ca6766",
   "metadata": {},
   "outputs": [],
   "source": [
    "# Import\n",
    "from tests.table_formatting_test import TableFormattingTest"
   ]
  },
  {
   "cell_type": "code",
   "execution_count": 18,
   "id": "369c4e46",
   "metadata": {},
   "outputs": [
    {
     "name": "stdout",
     "output_type": "stream",
     "text": [
      "All column statistics are unchanged after processing.\n"
     ]
    }
   ],
   "source": [
    "test = TableFormattingTest()\n",
    "test.test_column_statistics(\n",
    "    original = GERMAN_CREDIT_DATA,\n",
    "    processed = german_credit_data\n",
    ")"
   ]
  },
  {
   "cell_type": "markdown",
   "id": "d7a16851",
   "metadata": {},
   "source": [
    "# END"
   ]
  },
  {
   "cell_type": "code",
   "execution_count": 19,
   "id": "ac6b4cf1",
   "metadata": {},
   "outputs": [
    {
     "data": {
      "application/vnd.microsoft.datawrangler.viewer.v0+json": {
       "columns": [
        {
         "name": "index",
         "rawType": "int64",
         "type": "integer"
        },
        {
         "name": "A1 - Status of existing checking account",
         "rawType": "category",
         "type": "unknown"
        },
        {
         "name": "A2 - Duration in month",
         "rawType": "int64",
         "type": "integer"
        },
        {
         "name": "A3 - Credit history",
         "rawType": "category",
         "type": "unknown"
        },
        {
         "name": "A4 - Purpose",
         "rawType": "category",
         "type": "unknown"
        },
        {
         "name": "A5 - Credit amount",
         "rawType": "int64",
         "type": "integer"
        },
        {
         "name": "A6 - Savings account/bonds",
         "rawType": "category",
         "type": "unknown"
        },
        {
         "name": "A7 - Present employment since",
         "rawType": "category",
         "type": "unknown"
        },
        {
         "name": "A8 - Installment rate in percentage of disposable income",
         "rawType": "category",
         "type": "unknown"
        },
        {
         "name": "A9 - Personal status and sex",
         "rawType": "category",
         "type": "unknown"
        },
        {
         "name": "A10 - Other debtors/guarantors",
         "rawType": "category",
         "type": "unknown"
        },
        {
         "name": "A11 - Present residence since",
         "rawType": "int64",
         "type": "integer"
        },
        {
         "name": "A12 - Property",
         "rawType": "category",
         "type": "unknown"
        },
        {
         "name": "A13 - Age in years",
         "rawType": "int64",
         "type": "integer"
        },
        {
         "name": "A14 - Other installment plans",
         "rawType": "category",
         "type": "unknown"
        },
        {
         "name": "A15 - Housing",
         "rawType": "category",
         "type": "unknown"
        },
        {
         "name": "A16 - Number of existing credits at this bank",
         "rawType": "int64",
         "type": "integer"
        },
        {
         "name": "A17 - Job",
         "rawType": "category",
         "type": "unknown"
        },
        {
         "name": "A18 - Number of people being liable to provide maintenance for",
         "rawType": "int64",
         "type": "integer"
        },
        {
         "name": "A19 - Telephone",
         "rawType": "bool",
         "type": "boolean"
        },
        {
         "name": "A20 - Foreign worker",
         "rawType": "bool",
         "type": "boolean"
        },
        {
         "name": "T1 - Is good credit",
         "rawType": "bool",
         "type": "boolean"
        }
       ],
       "ref": "f53ee351-8332-4e6e-83ed-1ed5db21caee",
       "rows": [
        [
         "0",
         "A11",
         "6",
         "A34",
         "A43",
         "1169",
         "A65",
         "A75",
         "4",
         "A93",
         "A101",
         "4",
         "A121",
         "67",
         "A143",
         "A152",
         "2",
         "A173",
         "1",
         "True",
         "True",
         "True"
        ],
        [
         "1",
         "A12",
         "48",
         "A32",
         "A43",
         "5951",
         "A61",
         "A73",
         "2",
         "A92",
         "A101",
         "2",
         "A121",
         "22",
         "A143",
         "A152",
         "1",
         "A173",
         "1",
         "False",
         "True",
         "False"
        ],
        [
         "2",
         "A14",
         "12",
         "A34",
         "A46",
         "2096",
         "A61",
         "A74",
         "2",
         "A93",
         "A101",
         "3",
         "A121",
         "49",
         "A143",
         "A152",
         "1",
         "A172",
         "2",
         "False",
         "True",
         "True"
        ],
        [
         "3",
         "A11",
         "42",
         "A32",
         "A42",
         "7882",
         "A61",
         "A74",
         "2",
         "A93",
         "A103",
         "4",
         "A122",
         "45",
         "A143",
         "A153",
         "1",
         "A173",
         "2",
         "False",
         "True",
         "True"
        ],
        [
         "4",
         "A11",
         "24",
         "A33",
         "A40",
         "4870",
         "A61",
         "A73",
         "3",
         "A93",
         "A101",
         "4",
         "A124",
         "53",
         "A143",
         "A153",
         "2",
         "A173",
         "2",
         "False",
         "True",
         "False"
        ]
       ],
       "shape": {
        "columns": 21,
        "rows": 5
       }
      },
      "text/html": [
       "<div>\n",
       "<style scoped>\n",
       "    .dataframe tbody tr th:only-of-type {\n",
       "        vertical-align: middle;\n",
       "    }\n",
       "\n",
       "    .dataframe tbody tr th {\n",
       "        vertical-align: top;\n",
       "    }\n",
       "\n",
       "    .dataframe thead th {\n",
       "        text-align: right;\n",
       "    }\n",
       "</style>\n",
       "<table border=\"1\" class=\"dataframe\">\n",
       "  <thead>\n",
       "    <tr style=\"text-align: right;\">\n",
       "      <th>label</th>\n",
       "      <th>A1 - Status of existing checking account</th>\n",
       "      <th>A2 - Duration in month</th>\n",
       "      <th>A3 - Credit history</th>\n",
       "      <th>A4 - Purpose</th>\n",
       "      <th>A5 - Credit amount</th>\n",
       "      <th>A6 - Savings account/bonds</th>\n",
       "      <th>A7 - Present employment since</th>\n",
       "      <th>A8 - Installment rate in percentage of disposable income</th>\n",
       "      <th>A9 - Personal status and sex</th>\n",
       "      <th>A10 - Other debtors/guarantors</th>\n",
       "      <th>...</th>\n",
       "      <th>A12 - Property</th>\n",
       "      <th>A13 - Age in years</th>\n",
       "      <th>A14 - Other installment plans</th>\n",
       "      <th>A15 - Housing</th>\n",
       "      <th>A16 - Number of existing credits at this bank</th>\n",
       "      <th>A17 - Job</th>\n",
       "      <th>A18 - Number of people being liable to provide maintenance for</th>\n",
       "      <th>A19 - Telephone</th>\n",
       "      <th>A20 - Foreign worker</th>\n",
       "      <th>T1 - Is good credit</th>\n",
       "    </tr>\n",
       "  </thead>\n",
       "  <tbody>\n",
       "    <tr>\n",
       "      <th>0</th>\n",
       "      <td>A11</td>\n",
       "      <td>6</td>\n",
       "      <td>A34</td>\n",
       "      <td>A43</td>\n",
       "      <td>1169</td>\n",
       "      <td>A65</td>\n",
       "      <td>A75</td>\n",
       "      <td>4</td>\n",
       "      <td>A93</td>\n",
       "      <td>A101</td>\n",
       "      <td>...</td>\n",
       "      <td>A121</td>\n",
       "      <td>67</td>\n",
       "      <td>A143</td>\n",
       "      <td>A152</td>\n",
       "      <td>2</td>\n",
       "      <td>A173</td>\n",
       "      <td>1</td>\n",
       "      <td>True</td>\n",
       "      <td>True</td>\n",
       "      <td>True</td>\n",
       "    </tr>\n",
       "    <tr>\n",
       "      <th>1</th>\n",
       "      <td>A12</td>\n",
       "      <td>48</td>\n",
       "      <td>A32</td>\n",
       "      <td>A43</td>\n",
       "      <td>5951</td>\n",
       "      <td>A61</td>\n",
       "      <td>A73</td>\n",
       "      <td>2</td>\n",
       "      <td>A92</td>\n",
       "      <td>A101</td>\n",
       "      <td>...</td>\n",
       "      <td>A121</td>\n",
       "      <td>22</td>\n",
       "      <td>A143</td>\n",
       "      <td>A152</td>\n",
       "      <td>1</td>\n",
       "      <td>A173</td>\n",
       "      <td>1</td>\n",
       "      <td>False</td>\n",
       "      <td>True</td>\n",
       "      <td>False</td>\n",
       "    </tr>\n",
       "    <tr>\n",
       "      <th>2</th>\n",
       "      <td>A14</td>\n",
       "      <td>12</td>\n",
       "      <td>A34</td>\n",
       "      <td>A46</td>\n",
       "      <td>2096</td>\n",
       "      <td>A61</td>\n",
       "      <td>A74</td>\n",
       "      <td>2</td>\n",
       "      <td>A93</td>\n",
       "      <td>A101</td>\n",
       "      <td>...</td>\n",
       "      <td>A121</td>\n",
       "      <td>49</td>\n",
       "      <td>A143</td>\n",
       "      <td>A152</td>\n",
       "      <td>1</td>\n",
       "      <td>A172</td>\n",
       "      <td>2</td>\n",
       "      <td>False</td>\n",
       "      <td>True</td>\n",
       "      <td>True</td>\n",
       "    </tr>\n",
       "    <tr>\n",
       "      <th>3</th>\n",
       "      <td>A11</td>\n",
       "      <td>42</td>\n",
       "      <td>A32</td>\n",
       "      <td>A42</td>\n",
       "      <td>7882</td>\n",
       "      <td>A61</td>\n",
       "      <td>A74</td>\n",
       "      <td>2</td>\n",
       "      <td>A93</td>\n",
       "      <td>A103</td>\n",
       "      <td>...</td>\n",
       "      <td>A122</td>\n",
       "      <td>45</td>\n",
       "      <td>A143</td>\n",
       "      <td>A153</td>\n",
       "      <td>1</td>\n",
       "      <td>A173</td>\n",
       "      <td>2</td>\n",
       "      <td>False</td>\n",
       "      <td>True</td>\n",
       "      <td>True</td>\n",
       "    </tr>\n",
       "    <tr>\n",
       "      <th>4</th>\n",
       "      <td>A11</td>\n",
       "      <td>24</td>\n",
       "      <td>A33</td>\n",
       "      <td>A40</td>\n",
       "      <td>4870</td>\n",
       "      <td>A61</td>\n",
       "      <td>A73</td>\n",
       "      <td>3</td>\n",
       "      <td>A93</td>\n",
       "      <td>A101</td>\n",
       "      <td>...</td>\n",
       "      <td>A124</td>\n",
       "      <td>53</td>\n",
       "      <td>A143</td>\n",
       "      <td>A153</td>\n",
       "      <td>2</td>\n",
       "      <td>A173</td>\n",
       "      <td>2</td>\n",
       "      <td>False</td>\n",
       "      <td>True</td>\n",
       "      <td>False</td>\n",
       "    </tr>\n",
       "  </tbody>\n",
       "</table>\n",
       "<p>5 rows × 21 columns</p>\n",
       "</div>"
      ],
      "text/plain": [
       "label A1 - Status of existing checking account  A2 - Duration in month  \\\n",
       "0                                          A11                       6   \n",
       "1                                          A12                      48   \n",
       "2                                          A14                      12   \n",
       "3                                          A11                      42   \n",
       "4                                          A11                      24   \n",
       "\n",
       "label A3 - Credit history A4 - Purpose  A5 - Credit amount  \\\n",
       "0                     A34          A43                1169   \n",
       "1                     A32          A43                5951   \n",
       "2                     A34          A46                2096   \n",
       "3                     A32          A42                7882   \n",
       "4                     A33          A40                4870   \n",
       "\n",
       "label A6 - Savings account/bonds A7 - Present employment since  \\\n",
       "0                            A65                           A75   \n",
       "1                            A61                           A73   \n",
       "2                            A61                           A74   \n",
       "3                            A61                           A74   \n",
       "4                            A61                           A73   \n",
       "\n",
       "label A8 - Installment rate in percentage of disposable income  \\\n",
       "0                                                      4         \n",
       "1                                                      2         \n",
       "2                                                      2         \n",
       "3                                                      2         \n",
       "4                                                      3         \n",
       "\n",
       "label A9 - Personal status and sex A10 - Other debtors/guarantors  ...  \\\n",
       "0                              A93                           A101  ...   \n",
       "1                              A92                           A101  ...   \n",
       "2                              A93                           A101  ...   \n",
       "3                              A93                           A103  ...   \n",
       "4                              A93                           A101  ...   \n",
       "\n",
       "label  A12 - Property A13 - Age in years  A14 - Other installment plans  \\\n",
       "0                A121                 67                           A143   \n",
       "1                A121                 22                           A143   \n",
       "2                A121                 49                           A143   \n",
       "3                A122                 45                           A143   \n",
       "4                A124                 53                           A143   \n",
       "\n",
       "label A15 - Housing A16 - Number of existing credits at this bank  A17 - Job  \\\n",
       "0              A152                                             2       A173   \n",
       "1              A152                                             1       A173   \n",
       "2              A152                                             1       A172   \n",
       "3              A153                                             1       A173   \n",
       "4              A153                                             2       A173   \n",
       "\n",
       "label A18 - Number of people being liable to provide maintenance for  \\\n",
       "0                                                      1               \n",
       "1                                                      1               \n",
       "2                                                      2               \n",
       "3                                                      2               \n",
       "4                                                      2               \n",
       "\n",
       "label  A19 - Telephone  A20 - Foreign worker  T1 - Is good credit  \n",
       "0                 True                  True                 True  \n",
       "1                False                  True                False  \n",
       "2                False                  True                 True  \n",
       "3                False                  True                 True  \n",
       "4                False                  True                False  \n",
       "\n",
       "[5 rows x 21 columns]"
      ]
     },
     "execution_count": 19,
     "metadata": {},
     "output_type": "execute_result"
    }
   ],
   "source": [
    "# Final German Credit Data\n",
    "german_credit_data.head()"
   ]
  },
  {
   "cell_type": "code",
   "execution_count": 20,
   "id": "7ce1bc35",
   "metadata": {},
   "outputs": [],
   "source": [
    "# Save Formatted Table\n",
    "german_credit_data.to_csv('data/processed-data/1-formatted-table.csv', index=False)"
   ]
  }
 ],
 "metadata": {
  "kernelspec": {
   "display_name": "Python 3",
   "language": "python",
   "name": "python3"
  },
  "language_info": {
   "codemirror_mode": {
    "name": "ipython",
    "version": 3
   },
   "file_extension": ".py",
   "mimetype": "text/x-python",
   "name": "python",
   "nbconvert_exporter": "python",
   "pygments_lexer": "ipython3",
   "version": "3.12.1"
  }
 },
 "nbformat": 4,
 "nbformat_minor": 5
}
