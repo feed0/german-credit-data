{
 "cells": [
  {
   "cell_type": "markdown",
   "id": "3312e238",
   "metadata": {},
   "source": [
    "# `2.2 Pre-processing`\n",
    "\n",
    "1. Test spliting\n",
    "1. (X) Features\n",
    "    - 2.1. Categorical imputing\n",
    "    - 2.2. Categorical encoding\n",
    "        - a) Ordinal\n",
    "        - b) One-Hot\n",
    "1. (y) Target\n",
    "    - 3.1 Label encoding"
   ]
  },
  {
   "cell_type": "markdown",
   "id": "47d4c78a",
   "metadata": {},
   "source": [
    "## 2.2.0 Libraries and constants"
   ]
  },
  {
   "cell_type": "code",
   "execution_count": 1,
   "id": "32f91f1e",
   "metadata": {},
   "outputs": [],
   "source": [
    "# Libraries\n",
    "import pandas                as pd\n",
    "import numpy                 as np\n",
    "import matplotlib.pyplot     as plt\n",
    "\n",
    "from utils.TestSize          import TestSize\n",
    "\n",
    "# 2.2.1 Test split\n",
    "from sklearn.model_selection import train_test_split\n",
    "\n",
    "# 2.2.2 Categorical encoding\n",
    "from sklearn.impute          import SimpleImputer\n",
    "from sklearn.preprocessing   import OrdinalEncoder\n",
    "from sklearn.preprocessing   import OneHotEncoder\n",
    "\n",
    "# 2.2.3 Label encoding\n",
    "from sklearn.preprocessing   import LabelEncoder\n",
    "\n",
    "# Paths\n",
    "SELECTION_CSV_PATH  = 'data/processed-data/2-fayaad-1-selection.csv'\n",
    "COLUMNS_PATH        = 'data/metadata/columns.csv'\n",
    "\n",
    "# Constants\n",
    "SELECTION_DF        = pd.read_csv(SELECTION_CSV_PATH)\n",
    "COLUMNS             = pd.read_csv(COLUMNS_PATH)\n",
    "DTYPES              = pd.read_csv(COLUMNS_PATH, index_col=0).dtype\n",
    "\n",
    "# Train test split\n",
    "RANDOM_STATE = 42\n",
    "\n",
    "# Target column\n",
    "TARGET_COL = 'T1 - Is good credit'\n",
    "\n",
    "# Dtypes\n",
    "german_credit_data: pd.DataFrame = SELECTION_DF.copy()\n",
    "\n",
    "for column in german_credit_data.columns:\n",
    "    german_credit_data[column] = german_credit_data[column].astype(DTYPES[column])"
   ]
  },
  {
   "cell_type": "markdown",
   "id": "a2ec40dc",
   "metadata": {},
   "source": [
    "## 2.2.1 Test spliting"
   ]
  },
  {
   "cell_type": "code",
   "execution_count": 2,
   "id": "6b2aa12c",
   "metadata": {},
   "outputs": [],
   "source": [
    "# Features and target\n",
    "X = german_credit_data.drop(columns=[TARGET_COL])\n",
    "y = german_credit_data[TARGET_COL]\n",
    "\n",
    "# Stratified split\n",
    "(X_train_30, X_test_30,\n",
    "y_train_30, y_test_30) = train_test_split(X, y,\n",
    "                                          test_size = TestSize.t30.value,\n",
    "                                          random_state = RANDOM_STATE,\n",
    "                                          stratify = y)\n",
    "\n",
    "(X_train_10, X_test_10,\n",
    "y_train_10, y_test_10) = train_test_split(X, y,\n",
    "                                          test_size = TestSize.t10.value,\n",
    "                                          random_state = RANDOM_STATE,\n",
    "                                          stratify = y)"
   ]
  },
  {
   "cell_type": "code",
   "execution_count": 3,
   "id": "9c160472",
   "metadata": {},
   "outputs": [],
   "source": [
    "# Grpoup split sets\n",
    "class DatasetSplitSets:\n",
    "    def __init__(self, train, test, y_train, y_test):\n",
    "        self.X_train = train\n",
    "        self.X_test  = test\n",
    "        self.y_train = y_train\n",
    "        self.y_test  = y_test"
   ]
  },
  {
   "cell_type": "code",
   "execution_count": 4,
   "id": "00261026",
   "metadata": {},
   "outputs": [],
   "source": [
    "processed_30 = DatasetSplitSets(X_train_30, X_test_30, y_train_30, y_test_30)\n",
    "processed_10 = DatasetSplitSets(X_train_10, X_test_10, y_train_10, y_test_10)\n",
    "\n",
    "split_sets = [processed_30, processed_10]"
   ]
  },
  {
   "cell_type": "markdown",
   "id": "1a8ce815",
   "metadata": {},
   "source": [
    "## 2.2.2 Categorical encoding\n",
    "\n",
    "- Categorical columns (OH = One Hot encoding, Or = Ordinal encoding)\n",
    "\n",
    "|              Ordinal            |           One-Hot            |\n",
    "| ------------------------------- | ---------------------------- |\n",
    "|                                 | A3 - Credit history          |\n",
    "|                                 | A4 - Purpose                 |\n",
    "| A6 - Savings account/bonds      |                              |\n",
    "| A7 - Present employment since   |                              |\n",
    "|                                 | A9 - Personal status and sex |\n",
    "| A11 - Present residence since   |                              |\n",
    "|                                 | A12 - Property               |\n",
    "|                                 | A15 - Housing                |"
   ]
  },
  {
   "cell_type": "code",
   "execution_count": 5,
   "id": "c686c3b4",
   "metadata": {},
   "outputs": [],
   "source": [
    "# Categorical columns (ordinal and one-hot)\n",
    "ORDINAL_COLUMNS = ['A6 - Savings account/bonds',\n",
    "                   'A7 - Present employment since',\n",
    "                   'A11 - Present residence since',\n",
    "                   'A19 - Telephone',\n",
    "                   'A20 - Foreign worker',]\n",
    "\n",
    "ONEHOT_COLUMNS = ['A3 - Credit history',\n",
    "                  'A4 - Purpose',\n",
    "                  'A9 - Personal status and sex',\n",
    "                  'A12 - Property',\n",
    "                  'A15 - Housing',]\n",
    "\n",
    "COLUMN_WITH_NANS = ['A6 - Savings account/bonds',]"
   ]
  },
  {
   "cell_type": "markdown",
   "id": "4f05249d",
   "metadata": {},
   "source": [
    "### a) Categorical imputing"
   ]
  },
  {
   "cell_type": "code",
   "execution_count": 6,
   "id": "658bd0c1",
   "metadata": {},
   "outputs": [],
   "source": [
    "# Instantiate imputer to fill A6 nans with 'A60'\n",
    "imputer = SimpleImputer(strategy = 'constant', fill_value = 'A60')"
   ]
  },
  {
   "cell_type": "code",
   "execution_count": 7,
   "id": "dfb32c30",
   "metadata": {},
   "outputs": [],
   "source": [
    "def impute_missing_values(split_set: DatasetSplitSets,\n",
    "                          columns_with_nans: list[str],\n",
    "                          imputer: SimpleImputer):\n",
    "\n",
    "    # Fit on train and transform train\n",
    "    split_set.X_train[columns_with_nans] = imputer.fit_transform(split_set.X_train[columns_with_nans])\n",
    "\n",
    "    # Transform on test\n",
    "    split_set.X_test[columns_with_nans] = imputer.transform(split_set.X_test[columns_with_nans])\n"
   ]
  },
  {
   "cell_type": "code",
   "execution_count": 8,
   "id": "dc4d73f2",
   "metadata": {},
   "outputs": [],
   "source": [
    "for split_set in split_sets:\n",
    "    impute_missing_values(split_set, COLUMN_WITH_NANS, imputer)"
   ]
  },
  {
   "cell_type": "markdown",
   "id": "82b01699",
   "metadata": {},
   "source": [
    "### b) Ordinal encoding"
   ]
  },
  {
   "cell_type": "code",
   "execution_count": 9,
   "id": "2145d6fd",
   "metadata": {},
   "outputs": [],
   "source": [
    "# Instatiate an OrdinalEncoder that handles unknown categories in the test set\n",
    "ordinal_encoder = OrdinalEncoder(handle_unknown = 'use_encoded_value',\n",
    "                                 unknown_value = -1)"
   ]
  },
  {
   "cell_type": "code",
   "execution_count": 10,
   "id": "ebcdd4ac",
   "metadata": {},
   "outputs": [],
   "source": [
    "def encode_ordinal_features(split_set: DatasetSplitSets,\n",
    "                            ordinal_columns: list[str],\n",
    "                            encoder = ordinal_encoder):\n",
    "\n",
    "    # Fit on train and transform train\n",
    "    split_set.X_train[ordinal_columns] = encoder.fit_transform(split_set.X_train[ordinal_columns])\n",
    "\n",
    "    # Transform on test\n",
    "    split_set.X_test[ordinal_columns] = encoder.transform(split_set.X_test[ordinal_columns])"
   ]
  },
  {
   "cell_type": "code",
   "execution_count": 11,
   "id": "6841531c",
   "metadata": {},
   "outputs": [],
   "source": [
    "for split_set in split_sets:\n",
    "    encode_ordinal_features(split_set, ORDINAL_COLUMNS, ordinal_encoder)"
   ]
  },
  {
   "cell_type": "markdown",
   "id": "6012bb1c",
   "metadata": {},
   "source": [
    "### c) One-hot encoding"
   ]
  },
  {
   "cell_type": "code",
   "execution_count": 12,
   "id": "0e750880",
   "metadata": {},
   "outputs": [],
   "source": [
    "# Instantiate a OneHotEncoder that IGNORES unknown categories in the test set\n",
    "onehot_encoder = OneHotEncoder(handle_unknown='ignore', sparse_output=False)"
   ]
  },
  {
   "cell_type": "code",
   "execution_count": 13,
   "id": "8f6d8e89",
   "metadata": {},
   "outputs": [],
   "source": [
    "def encode_onehot_features(split_set: DatasetSplitSets,\n",
    "                           onehot_columns: list[str],\n",
    "                           encoder = onehot_encoder):\n",
    "    \n",
    "    # 1 Fit o train\n",
    "    encoder.fit(split_set.X_train[onehot_columns])\n",
    "    new_columns = encoder.get_feature_names_out(onehot_columns)\n",
    "\n",
    "    \n",
    "    # 2 Transform on both train and test\n",
    "    encoded_train = encoder.transform(split_set.X_train[onehot_columns])\n",
    "    encoded_train_df = pd.DataFrame(encoded_train,\n",
    "                                    columns = new_columns,\n",
    "                                    index = split_set.X_train.index)\n",
    "\n",
    "    encoded_test = encoder.transform(split_set.X_test[onehot_columns])\n",
    "    encoded_test_df = pd.DataFrame(encoded_test,\n",
    "                                   columns = new_columns,\n",
    "                                   index = split_set.X_test.index)\n",
    "    \n",
    "    \n",
    "    # 3 Drop original one-hot columns\n",
    "    split_set.X_train = split_set.X_train.drop(columns = onehot_columns)\n",
    "    split_set.X_test = split_set.X_test.drop(columns = onehot_columns)\n",
    "    \n",
    "    # 4 Concatenate the new encoded columns\n",
    "    split_set.X_train = pd.concat([split_set.X_train,\n",
    "                                   encoded_train_df], axis=1)\n",
    "\n",
    "    split_set.X_test = pd.concat([split_set.X_test,\n",
    "                                  encoded_test_df], axis=1)\n"
   ]
  },
  {
   "cell_type": "code",
   "execution_count": 15,
   "id": "1ea1b014",
   "metadata": {},
   "outputs": [],
   "source": [
    "for split_set in split_sets:\n",
    "    encode_onehot_features(split_set, ONEHOT_COLUMNS, onehot_encoder)"
   ]
  },
  {
   "cell_type": "markdown",
   "id": "c13f8efe",
   "metadata": {},
   "source": [
    "## 2.3.3 Label encoding"
   ]
  },
  {
   "cell_type": "code",
   "execution_count": 17,
   "id": "b433fe94",
   "metadata": {},
   "outputs": [],
   "source": [
    "# Instantiate a LabelEncoder\n",
    "label_encoder = LabelEncoder()"
   ]
  },
  {
   "cell_type": "code",
   "execution_count": 18,
   "id": "0ee3f4c1",
   "metadata": {},
   "outputs": [],
   "source": [
    "def encode_bool_label_features(split_set: DatasetSplitSets,\n",
    "                               encoder = label_encoder):\n",
    "    \n",
    "    # Fit on train and transform train\n",
    "    split_set.y_train = encoder.fit_transform(split_set.y_train)\n",
    "\n",
    "    # Transform on test\n",
    "    split_set.y_test = encoder.transform(split_set.y_test)"
   ]
  },
  {
   "cell_type": "code",
   "execution_count": 19,
   "id": "ef6b04fc",
   "metadata": {},
   "outputs": [],
   "source": [
    "for split_set in split_sets:\n",
    "    encode_bool_label_features(split_set, label_encoder)"
   ]
  },
  {
   "cell_type": "markdown",
   "id": "fd5c03bd",
   "metadata": {},
   "source": [
    "## SAVE"
   ]
  },
  {
   "cell_type": "code",
   "execution_count": 27,
   "id": "df6e7942",
   "metadata": {},
   "outputs": [
    {
     "name": "stdout",
     "output_type": "stream",
     "text": [
      "Train set at: data/processed-data/2-fayaad-2-train_30_processed.csv\n",
      "Test set at: data/processed-data/2-fayaad-2-test_30_processed.csv\n",
      "\n",
      "Train dimensions: (700, 37)\n",
      "Test dimensions: (300, 37)\n"
     ]
    }
   ],
   "source": [
    "## Test = 30%\n",
    "# Convert np.ndarray to pd.Series\n",
    "y_train_df = pd.Series(processed_30.y_train, index = processed_30.X_train.index, name = TARGET_COL)\n",
    "y_test_df  = pd.Series(processed_30.y_test,  index = processed_30.X_test.index,  name = TARGET_COL)\n",
    "\n",
    "# Concat X and y for each set\n",
    "train_df = pd.concat([processed_30.X_train, y_train_df], axis=1)\n",
    "test_df  = pd.concat([processed_30.X_test, y_test_df],  axis=1)\n",
    "\n",
    "# Path to save files\n",
    "TRAIN_PROCESSED_PATH = 'data/processed-data/2-fayaad-2-train_30_processed.csv'\n",
    "TEST_PROCESSED_PATH  = 'data/processed-data/2-fayaad-2-test_30_processed.csv'\n",
    "\n",
    "# Save DataFrames to CSV files, without the index\n",
    "train_df.to_csv(TRAIN_PROCESSED_PATH, index = False)\n",
    "test_df.to_csv(TEST_PROCESSED_PATH, index = False)\n",
    "\n",
    "print(f\"Train set at: {TRAIN_PROCESSED_PATH}\")\n",
    "print(f\"Test set at: {TEST_PROCESSED_PATH}\")\n",
    "print(\"\\nTrain dimensions:\", train_df.shape)\n",
    "print(\"Test dimensions:\", test_df.shape)"
   ]
  },
  {
   "cell_type": "code",
   "execution_count": 28,
   "id": "b8ff5775",
   "metadata": {},
   "outputs": [
    {
     "name": "stdout",
     "output_type": "stream",
     "text": [
      "Train set at: data/processed-data/2-fayaad-2-train_10_processed.csv\n",
      "Test set at: data/processed-data/2-fayaad-2-test_10_processed.csv\n",
      "\n",
      "Train dimensions: (900, 37)\n",
      "Test dimensions: (100, 37)\n"
     ]
    }
   ],
   "source": [
    "## Test = 10%\n",
    "# Convert np.ndarray to pd.Series\n",
    "y_train_df = pd.Series(processed_10.y_train, index = processed_10.X_train.index, name = TARGET_COL)\n",
    "y_test_df  = pd.Series(processed_10.y_test,  index = processed_10.X_test.index,  name = TARGET_COL)\n",
    "\n",
    "# Concat X and y for each set\n",
    "train_df = pd.concat([processed_10.X_train, y_train_df], axis=1)\n",
    "test_df  = pd.concat([processed_10.X_test, y_test_df],  axis=1)\n",
    "\n",
    "# Path to save files\n",
    "TRAIN_PROCESSED_PATH = 'data/processed-data/2-fayaad-2-train_10_processed.csv'\n",
    "TEST_PROCESSED_PATH  = 'data/processed-data/2-fayaad-2-test_10_processed.csv'\n",
    "\n",
    "# Save DataFrames to CSV files, without the index\n",
    "train_df.to_csv(TRAIN_PROCESSED_PATH, index = False)\n",
    "test_df.to_csv(TEST_PROCESSED_PATH, index = False)\n",
    "\n",
    "print(f\"Train set at: {TRAIN_PROCESSED_PATH}\")\n",
    "print(f\"Test set at: {TEST_PROCESSED_PATH}\")\n",
    "print(\"\\nTrain dimensions:\", train_df.shape)\n",
    "print(\"Test dimensions:\", test_df.shape)"
   ]
  },
  {
   "cell_type": "markdown",
   "id": "2601f463",
   "metadata": {},
   "source": [
    "# END"
   ]
  }
 ],
 "metadata": {
  "kernelspec": {
   "display_name": "gcd",
   "language": "python",
   "name": "python3"
  },
  "language_info": {
   "codemirror_mode": {
    "name": "ipython",
    "version": 3
   },
   "file_extension": ".py",
   "mimetype": "text/x-python",
   "name": "python",
   "nbconvert_exporter": "python",
   "pygments_lexer": "ipython3",
   "version": "3.12.11"
  }
 },
 "nbformat": 4,
 "nbformat_minor": 5
}
