{
 "cells": [
  {
   "cell_type": "markdown",
   "id": "15e0186b",
   "metadata": {},
   "source": [
    "# `1 Table formatting`\n",
    "\n",
    "<ol start=0>\n",
    "    <li>Libraries and constants</li>\n",
    "    <li>Multi index feature (label, description)</li>\n",
    "    <li>Dtypes</li>\n",
    "<ol>"
   ]
  },
  {
   "cell_type": "markdown",
   "id": "c613f4f3",
   "metadata": {},
   "source": [
    "## 1.0 Libraries and constants"
   ]
  },
  {
   "cell_type": "code",
   "execution_count": 1,
   "id": "9ec6d3dc",
   "metadata": {
    "ExecuteTime": {
     "end_time": "2025-08-06T21:09:45.782064Z",
     "start_time": "2025-08-06T21:09:45.458133Z"
    }
   },
   "outputs": [],
   "source": [
    "# Libraries\n",
    "import pandas as pd\n",
    "from pandas.api.types import CategoricalDtype\n",
    "\n",
    "# Project utils\n",
    "from utils.data_utils import map_column_inplace\n",
    "from utils.memory import MemoryUsageTracker"
   ]
  },
  {
   "cell_type": "code",
   "execution_count": 2,
   "id": "749eaad4",
   "metadata": {
    "ExecuteTime": {
     "end_time": "2025-08-06T21:09:45.807499Z",
     "start_time": "2025-08-06T21:09:45.791899Z"
    }
   },
   "outputs": [],
   "source": [
    "# Constants\n",
    "COLUMNS_PATH                = \"data/metadata/columns.csv\"\n",
    "COLUMNS                     = pd.read_csv(COLUMNS_PATH, index_col=0)\n",
    "\n",
    "DTYPES                      = COLUMNS.dtype\n",
    "\n",
    "CLASSES_PATH                = \"data/metadata/classes.csv\"\n",
    "CLASSES                     = pd.read_csv(CLASSES_PATH, index_col=0)\n",
    "\n",
    "GERMAN_CREDIT_DATA_PATH     = \"data/statlog+german+credit+data/german.data\"\n",
    "GERMAN_CREDIT_DATA          = pd.read_csv(GERMAN_CREDIT_DATA_PATH, sep=' ', header=None)"
   ]
  },
  {
   "cell_type": "markdown",
   "id": "19ddc11b",
   "metadata": {},
   "source": [
    "## 1.1 Multi index feature (label, description)"
   ]
  },
  {
   "cell_type": "code",
   "execution_count": 3,
   "id": "82d1ab16",
   "metadata": {
    "ExecuteTime": {
     "end_time": "2025-08-06T21:09:45.816424Z",
     "start_time": "2025-08-06T21:09:45.812353Z"
    }
   },
   "outputs": [],
   "source": [
    "# Apply (label, description) multi-index \n",
    "german_credit_data = GERMAN_CREDIT_DATA.copy()\n",
    "german_credit_data.columns = pd.MultiIndex.from_tuples(\n",
    "    list(zip(COLUMNS.index, COLUMNS.description)),\n",
    "    names=['label', 'description']\n",
    ")"
   ]
  },
  {
   "cell_type": "markdown",
   "id": "165ee3e6",
   "metadata": {},
   "source": [
    "## 1.2 Dtypes"
   ]
  },
  {
   "cell_type": "code",
   "execution_count": null,
   "id": "c8852065",
   "metadata": {
    "ExecuteTime": {
     "end_time": "2025-08-06T21:09:45.891514Z",
     "start_time": "2025-08-06T21:09:45.889870Z"
    }
   },
   "outputs": [],
   "source": [
    "# Track dtypes evolution\n",
    "dtypes_evolution = pd.DataFrame()\n",
    "dtypes_evolution = pd.concat([dtypes_evolution, german_credit_data.dtypes], axis=1)"
   ]
  },
  {
   "cell_type": "code",
   "execution_count": 5,
   "id": "0b566c3d",
   "metadata": {
    "ExecuteTime": {
     "end_time": "2025-08-06T21:09:45.918161Z",
     "start_time": "2025-08-06T21:09:45.914712Z"
    }
   },
   "outputs": [
    {
     "data": {
      "application/vnd.microsoft.datawrangler.viewer.v0+json": {
       "columns": [
        {
         "name": "(None, None)",
         "rawType": "object",
         "type": "unknown"
        },
        {
         "name": "0",
         "rawType": "object",
         "type": "unknown"
        }
       ],
       "ref": "92555324-2e03-4630-9ba3-864e46196e71",
       "rows": [
        [
         "('A1', 'Status of existing checking account')",
         "object"
        ],
        [
         "('A2', 'Duration in month')",
         "int64"
        ],
        [
         "('A3', 'Credit history')",
         "object"
        ],
        [
         "('A4', 'Purpose')",
         "object"
        ],
        [
         "('A5', 'Credit amount')",
         "int64"
        ]
       ],
       "shape": {
        "columns": 1,
        "rows": 5
       }
      },
      "text/html": [
       "<div>\n",
       "<style scoped>\n",
       "    .dataframe tbody tr th:only-of-type {\n",
       "        vertical-align: middle;\n",
       "    }\n",
       "\n",
       "    .dataframe tbody tr th {\n",
       "        vertical-align: top;\n",
       "    }\n",
       "\n",
       "    .dataframe thead th {\n",
       "        text-align: right;\n",
       "    }\n",
       "</style>\n",
       "<table border=\"1\" class=\"dataframe\">\n",
       "  <thead>\n",
       "    <tr style=\"text-align: right;\">\n",
       "      <th></th>\n",
       "      <th></th>\n",
       "      <th>0</th>\n",
       "    </tr>\n",
       "  </thead>\n",
       "  <tbody>\n",
       "    <tr>\n",
       "      <th>A1</th>\n",
       "      <th>Status of existing checking account</th>\n",
       "      <td>object</td>\n",
       "    </tr>\n",
       "    <tr>\n",
       "      <th>A2</th>\n",
       "      <th>Duration in month</th>\n",
       "      <td>int64</td>\n",
       "    </tr>\n",
       "    <tr>\n",
       "      <th>A3</th>\n",
       "      <th>Credit history</th>\n",
       "      <td>object</td>\n",
       "    </tr>\n",
       "    <tr>\n",
       "      <th>A4</th>\n",
       "      <th>Purpose</th>\n",
       "      <td>object</td>\n",
       "    </tr>\n",
       "    <tr>\n",
       "      <th>A5</th>\n",
       "      <th>Credit amount</th>\n",
       "      <td>int64</td>\n",
       "    </tr>\n",
       "  </tbody>\n",
       "</table>\n",
       "</div>"
      ],
      "text/plain": [
       "                                             0\n",
       "A1 Status of existing checking account  object\n",
       "A2 Duration in month                     int64\n",
       "A3 Credit history                       object\n",
       "A4 Purpose                              object\n",
       "A5 Credit amount                         int64"
      ]
     },
     "execution_count": 5,
     "metadata": {},
     "output_type": "execute_result"
    }
   ],
   "source": [
    "dtypes_evolution.head()"
   ]
  },
  {
   "cell_type": "code",
   "execution_count": 6,
   "id": "84512524",
   "metadata": {
    "ExecuteTime": {
     "end_time": "2025-08-06T21:09:46.069254Z",
     "start_time": "2025-08-06T21:09:46.064422Z"
    }
   },
   "outputs": [],
   "source": [
    "# Track memory usage\n",
    "memory_tracker = MemoryUsageTracker(german_credit_data.memory_usage(deep=True).sum())"
   ]
  },
  {
   "cell_type": "code",
   "execution_count": 7,
   "id": "5af295e7",
   "metadata": {
    "ExecuteTime": {
     "end_time": "2025-08-06T21:09:46.108875Z",
     "start_time": "2025-08-06T21:09:46.094918Z"
    }
   },
   "outputs": [],
   "source": [
    "# Convert dtypes\n",
    "    \n",
    "## 1 Map boolean columns -----------------------------------------------------------------------------------------\n",
    "column_map = {\n",
    "    # column: boolean_map\n",
    "}\n",
    "\n",
    "### 1.1 Arrange the mappings\n",
    "#### A19 Telephone\n",
    "''' A191,   none    =>  False\n",
    "    A192,   yes     =>  True'''\n",
    "\n",
    "column              = ('A19', 'Telephone')\n",
    "boolean_map         = {'A191': False, 'A192': True}\n",
    "column_map[column]  = boolean_map\n",
    "\n",
    "#### A20 Foreign worker\n",
    "''' A201,   yes     =>  True\n",
    "    A202,   no      =>  False'''\n",
    "\n",
    "column              = ('A20', 'Foreign worker')\n",
    "boolean_map         = {'A201': True, 'A202': False}\n",
    "column_map[column]  = boolean_map\n",
    "\n",
    "#### T1 Is good credit\n",
    "''' 1,      good    =>  True\n",
    "    2,      bad     =>  False'''\n",
    "\n",
    "column              = ('T1', 'Is good credit')\n",
    "boolean_map         = {1: True, 2: False}\n",
    "column_map[column]  = boolean_map\n",
    "\n",
    "### 1.2 Map the columns in place\n",
    "for (column, boolean_map) in column_map.items():\n",
    "    map_column_inplace(\n",
    "        df          = german_credit_data,\n",
    "        column      = column,\n",
    "        value_map   = boolean_map\n",
    "    )\n",
    "\n",
    "## 2 Convert dtypes ----------------------------------------------------------------------------------------------\n",
    "for (column, _description) in german_credit_data.columns:\n",
    "    if column == 'A8':\n",
    "        continue  # Skip ordinal column for now\n",
    "    german_credit_data[column] = german_credit_data[column].astype(DTYPES[column])\n",
    "\n",
    "## 3 Finally convert the ordinal column ---------------------------------------------------------------------------\n",
    "\n",
    "### 3.1. Define the order of your categories\n",
    "installment_categories = [1, 2, 3, 4]\n",
    "\n",
    "### 3.2 Create the custom ordinal data type\n",
    "ordinal_dtype = CategoricalDtype(categories=installment_categories, ordered=True)\n",
    "\n",
    "### 3.2 Apply the new data type to the column\n",
    "ordinal_column = ('A8', 'Installment rate in percentage of disposable income')\n",
    "german_credit_data[ordinal_column] = german_credit_data[ordinal_column].astype(ordinal_dtype)"
   ]
  },
  {
   "cell_type": "code",
   "execution_count": null,
   "id": "3cd0f4e1",
   "metadata": {
    "ExecuteTime": {
     "end_time": "2025-08-06T21:09:46.126002Z",
     "start_time": "2025-08-06T21:09:46.123556Z"
    }
   },
   "outputs": [],
   "source": [
    "# Append dtypes evolution\n",
    "dtypes_evolution = pd.concat([dtypes_evolution, german_credit_data.dtypes], axis=1)"
   ]
  },
  {
   "cell_type": "code",
   "execution_count": 9,
   "id": "4abd23b0",
   "metadata": {
    "ExecuteTime": {
     "end_time": "2025-08-06T21:09:46.142587Z",
     "start_time": "2025-08-06T21:09:46.138708Z"
    }
   },
   "outputs": [
    {
     "data": {
      "application/vnd.microsoft.datawrangler.viewer.v0+json": {
       "columns": [
        {
         "name": "(None, None)",
         "rawType": "object",
         "type": "unknown"
        },
        {
         "name": "0",
         "rawType": "object",
         "type": "unknown"
        },
        {
         "name": "0",
         "rawType": "object",
         "type": "unknown"
        }
       ],
       "ref": "f19a7d16-08b5-4367-a1c9-0a7a9ce0e2ac",
       "rows": [
        [
         "('A1', 'Status of existing checking account')",
         "object",
         "category"
        ],
        [
         "('A2', 'Duration in month')",
         "int64",
         "int64"
        ],
        [
         "('A3', 'Credit history')",
         "object",
         "category"
        ],
        [
         "('A4', 'Purpose')",
         "object",
         "category"
        ],
        [
         "('A5', 'Credit amount')",
         "int64",
         "float64"
        ]
       ],
       "shape": {
        "columns": 2,
        "rows": 5
       }
      },
      "text/html": [
       "<div>\n",
       "<style scoped>\n",
       "    .dataframe tbody tr th:only-of-type {\n",
       "        vertical-align: middle;\n",
       "    }\n",
       "\n",
       "    .dataframe tbody tr th {\n",
       "        vertical-align: top;\n",
       "    }\n",
       "\n",
       "    .dataframe thead th {\n",
       "        text-align: right;\n",
       "    }\n",
       "</style>\n",
       "<table border=\"1\" class=\"dataframe\">\n",
       "  <thead>\n",
       "    <tr style=\"text-align: right;\">\n",
       "      <th></th>\n",
       "      <th></th>\n",
       "      <th>0</th>\n",
       "      <th>0</th>\n",
       "    </tr>\n",
       "  </thead>\n",
       "  <tbody>\n",
       "    <tr>\n",
       "      <th>A1</th>\n",
       "      <th>Status of existing checking account</th>\n",
       "      <td>object</td>\n",
       "      <td>category</td>\n",
       "    </tr>\n",
       "    <tr>\n",
       "      <th>A2</th>\n",
       "      <th>Duration in month</th>\n",
       "      <td>int64</td>\n",
       "      <td>int64</td>\n",
       "    </tr>\n",
       "    <tr>\n",
       "      <th>A3</th>\n",
       "      <th>Credit history</th>\n",
       "      <td>object</td>\n",
       "      <td>category</td>\n",
       "    </tr>\n",
       "    <tr>\n",
       "      <th>A4</th>\n",
       "      <th>Purpose</th>\n",
       "      <td>object</td>\n",
       "      <td>category</td>\n",
       "    </tr>\n",
       "    <tr>\n",
       "      <th>A5</th>\n",
       "      <th>Credit amount</th>\n",
       "      <td>int64</td>\n",
       "      <td>float64</td>\n",
       "    </tr>\n",
       "  </tbody>\n",
       "</table>\n",
       "</div>"
      ],
      "text/plain": [
       "                                             0         0\n",
       "A1 Status of existing checking account  object  category\n",
       "A2 Duration in month                     int64     int64\n",
       "A3 Credit history                       object  category\n",
       "A4 Purpose                              object  category\n",
       "A5 Credit amount                         int64   float64"
      ]
     },
     "execution_count": 9,
     "metadata": {},
     "output_type": "execute_result"
    }
   ],
   "source": [
    "dtypes_evolution.head()"
   ]
  },
  {
   "cell_type": "code",
   "execution_count": 10,
   "id": "77b362af",
   "metadata": {
    "ExecuteTime": {
     "end_time": "2025-08-06T21:09:46.168640Z",
     "start_time": "2025-08-06T21:09:46.165740Z"
    }
   },
   "outputs": [],
   "source": [
    "# Update memory usage tracker\n",
    "memory_tracker.update(german_credit_data.memory_usage(deep=True).sum())\n",
    "\n",
    "# Visualize memory usage as a DataFrame\n",
    "memory_usage_df = pd.DataFrame({\n",
    "    'Previous usage (bytes)': [memory_tracker.previous],\n",
    "    'Current usage (bytes)': [memory_tracker.latest],\n",
    "    'Difference (bytes)': [memory_tracker.diff],\n",
    "    'Difference (%)': [(memory_tracker.diff / memory_tracker.previous) * 100 if memory_tracker.previous else None]\n",
    "})"
   ]
  },
  {
   "cell_type": "code",
   "execution_count": 11,
   "id": "28b4a108",
   "metadata": {
    "ExecuteTime": {
     "end_time": "2025-08-06T21:09:46.345330Z",
     "start_time": "2025-08-06T21:09:46.336398Z"
    }
   },
   "outputs": [
    {
     "data": {
      "application/vnd.microsoft.datawrangler.viewer.v0+json": {
       "columns": [
        {
         "name": "index",
         "rawType": "int64",
         "type": "integer"
        },
        {
         "name": "Previous usage (bytes)",
         "rawType": "int64",
         "type": "integer"
        },
        {
         "name": "Current usage (bytes)",
         "rawType": "int64",
         "type": "integer"
        },
        {
         "name": "Difference (bytes)",
         "rawType": "int64",
         "type": "integer"
        },
        {
         "name": "Difference (%)",
         "rawType": "float64",
         "type": "float"
        }
       ],
       "ref": "5620a12b-dff7-46fb-9773-42355effc656",
       "rows": [
        [
         "0",
         "747144",
         "67782",
         "-679362",
         "-90.92785326523402"
        ]
       ],
       "shape": {
        "columns": 4,
        "rows": 1
       }
      },
      "text/html": [
       "<div>\n",
       "<style scoped>\n",
       "    .dataframe tbody tr th:only-of-type {\n",
       "        vertical-align: middle;\n",
       "    }\n",
       "\n",
       "    .dataframe tbody tr th {\n",
       "        vertical-align: top;\n",
       "    }\n",
       "\n",
       "    .dataframe thead th {\n",
       "        text-align: right;\n",
       "    }\n",
       "</style>\n",
       "<table border=\"1\" class=\"dataframe\">\n",
       "  <thead>\n",
       "    <tr style=\"text-align: right;\">\n",
       "      <th></th>\n",
       "      <th>Previous usage (bytes)</th>\n",
       "      <th>Current usage (bytes)</th>\n",
       "      <th>Difference (bytes)</th>\n",
       "      <th>Difference (%)</th>\n",
       "    </tr>\n",
       "  </thead>\n",
       "  <tbody>\n",
       "    <tr>\n",
       "      <th>0</th>\n",
       "      <td>747144</td>\n",
       "      <td>67782</td>\n",
       "      <td>-679362</td>\n",
       "      <td>-90.927853</td>\n",
       "    </tr>\n",
       "  </tbody>\n",
       "</table>\n",
       "</div>"
      ],
      "text/plain": [
       "   Previous usage (bytes)  Current usage (bytes)  Difference (bytes)  \\\n",
       "0                  747144                  67782             -679362   \n",
       "\n",
       "   Difference (%)  \n",
       "0      -90.927853  "
      ]
     },
     "execution_count": 11,
     "metadata": {},
     "output_type": "execute_result"
    }
   ],
   "source": [
    "memory_usage_df.head()"
   ]
  },
  {
   "cell_type": "markdown",
   "id": "d233ab79",
   "metadata": {},
   "source": [
    "# TEST"
   ]
  },
  {
   "cell_type": "code",
   "execution_count": 12,
   "id": "c6bbed8b",
   "metadata": {},
   "outputs": [
    {
     "name": "stdout",
     "output_type": "stream",
     "text": [
      "All column statistics are unchanged after processing.\n"
     ]
    }
   ],
   "source": [
    "# Test: Ensure column statistics are unchanged after processing\n",
    "\n",
    "# 1. Prepare original and processed DataFrames with matching columns\n",
    "original = GERMAN_CREDIT_DATA.copy()\n",
    "processed = german_credit_data.copy()\n",
    "\n",
    "# Flatten MultiIndex columns for comparison\n",
    "original.columns = processed.columns\n",
    "\n",
    "# Reverse boolean mapping for comparison\n",
    "inverse_boolean_map = {\n",
    "    ('A19', 'Telephone')        : {True: 'A192', False: 'A191'},\n",
    "    ('A20', 'Foreign worker')   : {True: 'A201', False: 'A202'},\n",
    "    ('T1', 'Is good credit')    : {True: 1, False: 2}\n",
    "}\n",
    "\n",
    "boolean_columns = list(inverse_boolean_map.keys())\n",
    "for column in boolean_columns:\n",
    "    map_column_inplace(\n",
    "        df = processed,\n",
    "        column = column,\n",
    "        value_map = inverse_boolean_map[column]\n",
    "    )\n",
    "\n",
    "# 2. Compare statistics for each column ---------------------------------------------------------------------------------------------------------\n",
    "for col in original.columns:\n",
    "\n",
    "    if col == ordinal_column:\n",
    "        orig_value_counts = original[col].value_counts().sort_values().reset_index(drop=True)\n",
    "        proc_value_counts = processed[col].value_counts().sort_values().reset_index(drop=True)\n",
    "\n",
    "        # Assert value counts are equal, disregarding index\n",
    "        assert orig_value_counts.equals(proc_value_counts), f\"Value counts for column '{col}' changed:\\n{orig_value_counts}\\n!=\\n{proc_value_counts}\"\n",
    "\n",
    "    else:\n",
    "        orig_stats = original[col].describe(include='all')\n",
    "        proc_stats = processed[col].describe(include='all')\n",
    "        \n",
    "        # Compare count, unique, top, freq, mean, std, min, 25%, 50%, 75%, max as available\n",
    "        for stat in orig_stats.index:\n",
    "            assert orig_stats[stat] == proc_stats[stat], f\"Statistic '{stat}' for column '{col}' changed: {orig_stats[stat]} != {proc_stats[stat]}\"\n",
    "\n",
    "print(\"All column statistics are unchanged after processing.\")"
   ]
  },
  {
   "cell_type": "markdown",
   "id": "d7a16851",
   "metadata": {},
   "source": [
    "# END"
   ]
  },
  {
   "cell_type": "code",
   "execution_count": 13,
   "id": "ac6b4cf1",
   "metadata": {},
   "outputs": [
    {
     "data": {
      "application/vnd.microsoft.datawrangler.viewer.v0+json": {
       "columns": [
        {
         "name": "index",
         "rawType": "int64",
         "type": "integer"
        },
        {
         "name": "('A1', 'Status of existing checking account')",
         "rawType": "category",
         "type": "unknown"
        },
        {
         "name": "('A2', 'Duration in month')",
         "rawType": "int64",
         "type": "integer"
        },
        {
         "name": "('A3', 'Credit history')",
         "rawType": "category",
         "type": "unknown"
        },
        {
         "name": "('A4', 'Purpose')",
         "rawType": "category",
         "type": "unknown"
        },
        {
         "name": "('A5', 'Credit amount')",
         "rawType": "float64",
         "type": "float"
        },
        {
         "name": "('A6', 'Savings account/bonds')",
         "rawType": "category",
         "type": "unknown"
        },
        {
         "name": "('A7', 'Present employment since')",
         "rawType": "category",
         "type": "unknown"
        },
        {
         "name": "('A8', 'Installment rate in percentage of disposable income')",
         "rawType": "category",
         "type": "unknown"
        },
        {
         "name": "('A9', 'Personal status and sex')",
         "rawType": "category",
         "type": "unknown"
        },
        {
         "name": "('A10', 'Other debtors / guarantors')",
         "rawType": "category",
         "type": "unknown"
        },
        {
         "name": "('A11', 'Present residence since')",
         "rawType": "int64",
         "type": "integer"
        },
        {
         "name": "('A12', 'Property')",
         "rawType": "category",
         "type": "unknown"
        },
        {
         "name": "('A13', 'Age in years')",
         "rawType": "int64",
         "type": "integer"
        },
        {
         "name": "('A14', 'Other installment plans')",
         "rawType": "category",
         "type": "unknown"
        },
        {
         "name": "('A15', 'Housing')",
         "rawType": "category",
         "type": "unknown"
        },
        {
         "name": "('A16', 'Number of existing credits at this bank')",
         "rawType": "int64",
         "type": "integer"
        },
        {
         "name": "('A17', 'Job')",
         "rawType": "category",
         "type": "unknown"
        },
        {
         "name": "('A18', 'Number of people being liable to provide maintenance for')",
         "rawType": "int64",
         "type": "integer"
        },
        {
         "name": "('A19', 'Telephone')",
         "rawType": "bool",
         "type": "boolean"
        },
        {
         "name": "('A20', 'Foreign worker')",
         "rawType": "bool",
         "type": "boolean"
        },
        {
         "name": "('T1', 'Is good credit')",
         "rawType": "bool",
         "type": "boolean"
        }
       ],
       "ref": "6aaedbf8-48e1-48b7-b7b8-2ef5b7148b45",
       "rows": [
        [
         "0",
         "A11",
         "6",
         "A34",
         "A43",
         "1169.0",
         "A65",
         "A75",
         "4",
         "A93",
         "A101",
         "4",
         "A121",
         "67",
         "A143",
         "A152",
         "2",
         "A173",
         "1",
         "True",
         "True",
         "True"
        ],
        [
         "1",
         "A12",
         "48",
         "A32",
         "A43",
         "5951.0",
         "A61",
         "A73",
         "2",
         "A92",
         "A101",
         "2",
         "A121",
         "22",
         "A143",
         "A152",
         "1",
         "A173",
         "1",
         "False",
         "True",
         "False"
        ],
        [
         "2",
         "A14",
         "12",
         "A34",
         "A46",
         "2096.0",
         "A61",
         "A74",
         "2",
         "A93",
         "A101",
         "3",
         "A121",
         "49",
         "A143",
         "A152",
         "1",
         "A172",
         "2",
         "False",
         "True",
         "True"
        ],
        [
         "3",
         "A11",
         "42",
         "A32",
         "A42",
         "7882.0",
         "A61",
         "A74",
         "2",
         "A93",
         "A103",
         "4",
         "A122",
         "45",
         "A143",
         "A153",
         "1",
         "A173",
         "2",
         "False",
         "True",
         "True"
        ],
        [
         "4",
         "A11",
         "24",
         "A33",
         "A40",
         "4870.0",
         "A61",
         "A73",
         "3",
         "A93",
         "A101",
         "4",
         "A124",
         "53",
         "A143",
         "A153",
         "2",
         "A173",
         "2",
         "False",
         "True",
         "False"
        ]
       ],
       "shape": {
        "columns": 21,
        "rows": 5
       }
      },
      "text/html": [
       "<div>\n",
       "<style scoped>\n",
       "    .dataframe tbody tr th:only-of-type {\n",
       "        vertical-align: middle;\n",
       "    }\n",
       "\n",
       "    .dataframe tbody tr th {\n",
       "        vertical-align: top;\n",
       "    }\n",
       "\n",
       "    .dataframe thead tr th {\n",
       "        text-align: left;\n",
       "    }\n",
       "</style>\n",
       "<table border=\"1\" class=\"dataframe\">\n",
       "  <thead>\n",
       "    <tr>\n",
       "      <th>label</th>\n",
       "      <th>A1</th>\n",
       "      <th>A2</th>\n",
       "      <th>A3</th>\n",
       "      <th>A4</th>\n",
       "      <th>A5</th>\n",
       "      <th>A6</th>\n",
       "      <th>A7</th>\n",
       "      <th>A8</th>\n",
       "      <th>A9</th>\n",
       "      <th>A10</th>\n",
       "      <th>...</th>\n",
       "      <th>A12</th>\n",
       "      <th>A13</th>\n",
       "      <th>A14</th>\n",
       "      <th>A15</th>\n",
       "      <th>A16</th>\n",
       "      <th>A17</th>\n",
       "      <th>A18</th>\n",
       "      <th>A19</th>\n",
       "      <th>A20</th>\n",
       "      <th>T1</th>\n",
       "    </tr>\n",
       "    <tr>\n",
       "      <th>description</th>\n",
       "      <th>Status of existing checking account</th>\n",
       "      <th>Duration in month</th>\n",
       "      <th>Credit history</th>\n",
       "      <th>Purpose</th>\n",
       "      <th>Credit amount</th>\n",
       "      <th>Savings account/bonds</th>\n",
       "      <th>Present employment since</th>\n",
       "      <th>Installment rate in percentage of disposable income</th>\n",
       "      <th>Personal status and sex</th>\n",
       "      <th>Other debtors / guarantors</th>\n",
       "      <th>...</th>\n",
       "      <th>Property</th>\n",
       "      <th>Age in years</th>\n",
       "      <th>Other installment plans</th>\n",
       "      <th>Housing</th>\n",
       "      <th>Number of existing credits at this bank</th>\n",
       "      <th>Job</th>\n",
       "      <th>Number of people being liable to provide maintenance for</th>\n",
       "      <th>Telephone</th>\n",
       "      <th>Foreign worker</th>\n",
       "      <th>Is good credit</th>\n",
       "    </tr>\n",
       "  </thead>\n",
       "  <tbody>\n",
       "    <tr>\n",
       "      <th>0</th>\n",
       "      <td>A11</td>\n",
       "      <td>6</td>\n",
       "      <td>A34</td>\n",
       "      <td>A43</td>\n",
       "      <td>1169.0</td>\n",
       "      <td>A65</td>\n",
       "      <td>A75</td>\n",
       "      <td>4</td>\n",
       "      <td>A93</td>\n",
       "      <td>A101</td>\n",
       "      <td>...</td>\n",
       "      <td>A121</td>\n",
       "      <td>67</td>\n",
       "      <td>A143</td>\n",
       "      <td>A152</td>\n",
       "      <td>2</td>\n",
       "      <td>A173</td>\n",
       "      <td>1</td>\n",
       "      <td>True</td>\n",
       "      <td>True</td>\n",
       "      <td>True</td>\n",
       "    </tr>\n",
       "    <tr>\n",
       "      <th>1</th>\n",
       "      <td>A12</td>\n",
       "      <td>48</td>\n",
       "      <td>A32</td>\n",
       "      <td>A43</td>\n",
       "      <td>5951.0</td>\n",
       "      <td>A61</td>\n",
       "      <td>A73</td>\n",
       "      <td>2</td>\n",
       "      <td>A92</td>\n",
       "      <td>A101</td>\n",
       "      <td>...</td>\n",
       "      <td>A121</td>\n",
       "      <td>22</td>\n",
       "      <td>A143</td>\n",
       "      <td>A152</td>\n",
       "      <td>1</td>\n",
       "      <td>A173</td>\n",
       "      <td>1</td>\n",
       "      <td>False</td>\n",
       "      <td>True</td>\n",
       "      <td>False</td>\n",
       "    </tr>\n",
       "    <tr>\n",
       "      <th>2</th>\n",
       "      <td>A14</td>\n",
       "      <td>12</td>\n",
       "      <td>A34</td>\n",
       "      <td>A46</td>\n",
       "      <td>2096.0</td>\n",
       "      <td>A61</td>\n",
       "      <td>A74</td>\n",
       "      <td>2</td>\n",
       "      <td>A93</td>\n",
       "      <td>A101</td>\n",
       "      <td>...</td>\n",
       "      <td>A121</td>\n",
       "      <td>49</td>\n",
       "      <td>A143</td>\n",
       "      <td>A152</td>\n",
       "      <td>1</td>\n",
       "      <td>A172</td>\n",
       "      <td>2</td>\n",
       "      <td>False</td>\n",
       "      <td>True</td>\n",
       "      <td>True</td>\n",
       "    </tr>\n",
       "    <tr>\n",
       "      <th>3</th>\n",
       "      <td>A11</td>\n",
       "      <td>42</td>\n",
       "      <td>A32</td>\n",
       "      <td>A42</td>\n",
       "      <td>7882.0</td>\n",
       "      <td>A61</td>\n",
       "      <td>A74</td>\n",
       "      <td>2</td>\n",
       "      <td>A93</td>\n",
       "      <td>A103</td>\n",
       "      <td>...</td>\n",
       "      <td>A122</td>\n",
       "      <td>45</td>\n",
       "      <td>A143</td>\n",
       "      <td>A153</td>\n",
       "      <td>1</td>\n",
       "      <td>A173</td>\n",
       "      <td>2</td>\n",
       "      <td>False</td>\n",
       "      <td>True</td>\n",
       "      <td>True</td>\n",
       "    </tr>\n",
       "    <tr>\n",
       "      <th>4</th>\n",
       "      <td>A11</td>\n",
       "      <td>24</td>\n",
       "      <td>A33</td>\n",
       "      <td>A40</td>\n",
       "      <td>4870.0</td>\n",
       "      <td>A61</td>\n",
       "      <td>A73</td>\n",
       "      <td>3</td>\n",
       "      <td>A93</td>\n",
       "      <td>A101</td>\n",
       "      <td>...</td>\n",
       "      <td>A124</td>\n",
       "      <td>53</td>\n",
       "      <td>A143</td>\n",
       "      <td>A153</td>\n",
       "      <td>2</td>\n",
       "      <td>A173</td>\n",
       "      <td>2</td>\n",
       "      <td>False</td>\n",
       "      <td>True</td>\n",
       "      <td>False</td>\n",
       "    </tr>\n",
       "  </tbody>\n",
       "</table>\n",
       "<p>5 rows × 21 columns</p>\n",
       "</div>"
      ],
      "text/plain": [
       "label                                        A1                A2  \\\n",
       "description Status of existing checking account Duration in month   \n",
       "0                                           A11                 6   \n",
       "1                                           A12                48   \n",
       "2                                           A14                12   \n",
       "3                                           A11                42   \n",
       "4                                           A11                24   \n",
       "\n",
       "label                   A3      A4            A5                    A6  \\\n",
       "description Credit history Purpose Credit amount Savings account/bonds   \n",
       "0                      A34     A43        1169.0                   A65   \n",
       "1                      A32     A43        5951.0                   A61   \n",
       "2                      A34     A46        2096.0                   A61   \n",
       "3                      A32     A42        7882.0                   A61   \n",
       "4                      A33     A40        4870.0                   A61   \n",
       "\n",
       "label                             A7  \\\n",
       "description Present employment since   \n",
       "0                                A75   \n",
       "1                                A73   \n",
       "2                                A74   \n",
       "3                                A74   \n",
       "4                                A73   \n",
       "\n",
       "label                                                        A8  \\\n",
       "description Installment rate in percentage of disposable income   \n",
       "0                                                            4    \n",
       "1                                                            2    \n",
       "2                                                            2    \n",
       "3                                                            2    \n",
       "4                                                            3    \n",
       "\n",
       "label                            A9                        A10  ...      A12  \\\n",
       "description Personal status and sex Other debtors / guarantors  ... Property   \n",
       "0                               A93                       A101  ...     A121   \n",
       "1                               A92                       A101  ...     A121   \n",
       "2                               A93                       A101  ...     A121   \n",
       "3                               A93                       A103  ...     A122   \n",
       "4                               A93                       A101  ...     A124   \n",
       "\n",
       "label                A13                     A14     A15  \\\n",
       "description Age in years Other installment plans Housing   \n",
       "0                     67                    A143    A152   \n",
       "1                     22                    A143    A152   \n",
       "2                     49                    A143    A152   \n",
       "3                     45                    A143    A153   \n",
       "4                     53                    A143    A153   \n",
       "\n",
       "label                                           A16   A17  \\\n",
       "description Number of existing credits at this bank   Job   \n",
       "0                                                 2  A173   \n",
       "1                                                 1  A173   \n",
       "2                                                 1  A172   \n",
       "3                                                 1  A173   \n",
       "4                                                 2  A173   \n",
       "\n",
       "label                                                            A18  \\\n",
       "description Number of people being liable to provide maintenance for   \n",
       "0                                                            1         \n",
       "1                                                            1         \n",
       "2                                                            2         \n",
       "3                                                            2         \n",
       "4                                                            2         \n",
       "\n",
       "label             A19            A20             T1  \n",
       "description Telephone Foreign worker Is good credit  \n",
       "0                True           True           True  \n",
       "1               False           True          False  \n",
       "2               False           True           True  \n",
       "3               False           True           True  \n",
       "4               False           True          False  \n",
       "\n",
       "[5 rows x 21 columns]"
      ]
     },
     "execution_count": 13,
     "metadata": {},
     "output_type": "execute_result"
    }
   ],
   "source": [
    "# Final German Credit Data\n",
    "german_credit_data.head()"
   ]
  },
  {
   "cell_type": "code",
   "execution_count": 14,
   "id": "7ce1bc35",
   "metadata": {},
   "outputs": [],
   "source": [
    "# Save Formatted Table\n",
    "german_credit_data.to_csv('data/processed-data/1-formatted-table.csv', index=False)"
   ]
  }
 ],
 "metadata": {
  "kernelspec": {
   "display_name": "Python 3",
   "language": "python",
   "name": "python3"
  },
  "language_info": {
   "codemirror_mode": {
    "name": "ipython",
    "version": 3
   },
   "file_extension": ".py",
   "mimetype": "text/x-python",
   "name": "python",
   "nbconvert_exporter": "python",
   "pygments_lexer": "ipython3",
   "version": "3.12.1"
  }
 },
 "nbformat": 4,
 "nbformat_minor": 5
}
