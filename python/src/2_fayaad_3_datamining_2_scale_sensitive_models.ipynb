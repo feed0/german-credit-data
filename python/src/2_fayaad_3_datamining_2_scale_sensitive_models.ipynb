{
 "cells": [
  {
   "cell_type": "markdown",
   "id": "776a72ce",
   "metadata": {},
   "source": [
    "# `2.3 b) Scale sensitive models`\n",
    "\n",
    "1. Numerical Scaling\n",
    "1. (SMOTE) 'Synthetic Minority Over-sampling Technique' class balancing \n",
    "1. Modeling\n",
    "    - a) Logistic Regression\n",
    "    - b) (SVM) Support Vectore Machine\n",
    "    - c) Neural Networks"
   ]
  },
  {
   "cell_type": "markdown",
   "id": "444cb2b8",
   "metadata": {},
   "source": [
    "## 2.3.0 Libraries and constants"
   ]
  },
  {
   "cell_type": "code",
   "execution_count": 11,
   "id": "6f6f6f98",
   "metadata": {},
   "outputs": [],
   "source": [
    "# Libraries\n",
    "import pandas as pd\n",
    "import numpy as np\n",
    "import matplotlib.pyplot as plt\n",
    "\n",
    "# 2.3.1 Numerical Scaling\n",
    "from sklearn.preprocessing import StandardScaler\n",
    "\n",
    "# 2.3.2 SMOTE\n",
    "from imblearn.over_sampling import SMOTE\n",
    "\n",
    "# 2.3.3 Models\n",
    "from sklearn.metrics import classification_report, ConfusionMatrixDisplay\n",
    "\n",
    "from sklearn.linear_model   import LogisticRegression\n",
    "from sklearn.svm            import SVC\n",
    "from sklearn.neural_network import MLPClassifier"
   ]
  },
  {
   "cell_type": "code",
   "execution_count": 2,
   "id": "e8f30aa8",
   "metadata": {},
   "outputs": [],
   "source": [
    "# Constants\n",
    "TARGET_COLUMN = 'T1 - Is good credit'\n",
    "RANDOM_STATE = 42"
   ]
  },
  {
   "cell_type": "code",
   "execution_count": 3,
   "id": "ae15f689",
   "metadata": {},
   "outputs": [],
   "source": [
    "## 10% Data\n",
    "TRAIN_PROCESSED_10_PATH  = 'data/processed-data/2-fayaad-2-train_10_processed.csv'\n",
    "TEST_PROCESSED_10_PATH   = 'data/processed-data/2-fayaad-2-test_10_processed.csv'\n",
    "\n",
    "PROCESSED_TRAIN_10_DF = pd.read_csv(TRAIN_PROCESSED_10_PATH)\n",
    "PROCESSED_TEST_10_DF  = pd.read_csv(TEST_PROCESSED_10_PATH)\n",
    "\n",
    "Y_TRAIN_10, X_TRAIN_10 = PROCESSED_TRAIN_10_DF[TARGET_COLUMN], PROCESSED_TRAIN_10_DF.drop(columns=[TARGET_COLUMN])\n",
    "Y_TEST_10,  X_TEST_10  = PROCESSED_TEST_10_DF[TARGET_COLUMN],  PROCESSED_TEST_10_DF.drop(columns=[TARGET_COLUMN])"
   ]
  },
  {
   "cell_type": "code",
   "execution_count": 4,
   "id": "35c4bb33",
   "metadata": {},
   "outputs": [],
   "source": [
    "## 30% Data\n",
    "TRAIN_PROCESSED_30_PATH  = 'data/processed-data/2-fayaad-2-train_30_processed.csv'\n",
    "TEST_PROCESSED_30_PATH   = 'data/processed-data/2-fayaad-2-test_30_processed.csv'\n",
    "\n",
    "PROCESSED_TRAIN_30_DF = pd.read_csv(TRAIN_PROCESSED_30_PATH)\n",
    "PROCESSED_TEST_30_DF  = pd.read_csv(TEST_PROCESSED_30_PATH)\n",
    "\n",
    "Y_TRAIN_30, X_TRAIN_30 = PROCESSED_TRAIN_30_DF[TARGET_COLUMN], PROCESSED_TRAIN_30_DF.drop(columns=[TARGET_COLUMN])\n",
    "Y_TEST_30,  X_TEST_30  = PROCESSED_TEST_30_DF[TARGET_COLUMN],  PROCESSED_TEST_30_DF.drop(columns=[TARGET_COLUMN])"
   ]
  },
  {
   "cell_type": "markdown",
   "id": "3d7f1d75",
   "metadata": {},
   "source": [
    "## 2.3.1 Numerical Scaling"
   ]
  },
  {
   "cell_type": "code",
   "execution_count": 5,
   "id": "556697bb",
   "metadata": {},
   "outputs": [],
   "source": [
    "# Instantiate the scaler\n",
    "scaler = StandardScaler()"
   ]
  },
  {
   "cell_type": "code",
   "execution_count": 6,
   "id": "8abd3de5",
   "metadata": {},
   "outputs": [],
   "source": [
    "## Scale 10% Data\n",
    "scaler.fit(X_TRAIN_10)\n",
    "\n",
    "# Transform both the training and testing data\n",
    "X_TRAIN_10_SCALED = pd.DataFrame(scaler.transform(X_TRAIN_10), columns=X_TRAIN_10.columns)\n",
    "X_TEST_10_SCALED  = pd.DataFrame(scaler.transform(X_TEST_10),  columns=X_TEST_10.columns)"
   ]
  },
  {
   "cell_type": "code",
   "execution_count": 7,
   "id": "e135c058",
   "metadata": {},
   "outputs": [],
   "source": [
    "## Scale 30% Data\n",
    "scaler.fit(X_TRAIN_30)\n",
    "\n",
    "# Transform both the training and testing data\n",
    "X_TRAIN_30_SCALED = pd.DataFrame(scaler.transform(X_TRAIN_30), columns=X_TRAIN_30.columns)\n",
    "X_TEST_30_SCALED  = pd.DataFrame(scaler.transform(X_TEST_30),  columns=X_TEST_30.columns)"
   ]
  },
  {
   "cell_type": "markdown",
   "id": "3120d361",
   "metadata": {},
   "source": [
    "## 2.3.2 Class balancing"
   ]
  },
  {
   "cell_type": "code",
   "execution_count": 8,
   "id": "95e58514",
   "metadata": {},
   "outputs": [],
   "source": [
    "# Instantiate SMOTE\n",
    "smote = SMOTE(random_state = RANDOM_STATE)"
   ]
  },
  {
   "cell_type": "code",
   "execution_count": 9,
   "id": "bd4ff6c3",
   "metadata": {},
   "outputs": [],
   "source": [
    "## SMOTE on 10% Data\n",
    "X_TRAIN_RESAMPLED_10, Y_TRAIN_RESAMPLED_10 = smote.fit_resample(X_TRAIN_10_SCALED, Y_TRAIN_10)"
   ]
  },
  {
   "cell_type": "code",
   "execution_count": 10,
   "id": "03ceb10d",
   "metadata": {},
   "outputs": [],
   "source": [
    "## SMOTE on 30% Data\n",
    "X_TRAIN_RESAMPLED_30, Y_TRAIN_RESAMPLED_30 = smote.fit_resample(X_TRAIN_30_SCALED, Y_TRAIN_30)"
   ]
  },
  {
   "cell_type": "markdown",
   "id": "21a64e01",
   "metadata": {},
   "source": [
    "## 2.3.3 Modeling"
   ]
  },
  {
   "cell_type": "code",
   "execution_count": 12,
   "id": "4fab05a9",
   "metadata": {},
   "outputs": [],
   "source": [
    "def fit_predict_metrics(model, smote: bool, X_train, y_train, X_test, y_test):\n",
    "    \n",
    "    print(\n",
    "        f\"\"\"\\n--- {model.__class__.__name__} Results ---\n",
    "        SMOTE applied: {smote}\"\"\")\n",
    "    \n",
    "    model.fit(X_train, y_train)\n",
    "    y_pred = model.predict(X_test)\n",
    "\n",
    "    print(classification_report(y_test, y_pred))"
   ]
  },
  {
   "cell_type": "code",
   "execution_count": null,
   "id": "3df2e6d8",
   "metadata": {},
   "outputs": [],
   "source": [
    "# Instantiate models\n",
    "log_reg   = LogisticRegression(random_state=RANDOM_STATE)\n",
    "svm_model = SVC(random_state=RANDOM_STATE)\n",
    "nn_model  = MLPClassifier(random_state=RANDOM_STATE, max_iter=1000)"
   ]
  },
  {
   "cell_type": "markdown",
   "id": "afe311d2",
   "metadata": {},
   "source": [
    "### a) Logistic regression"
   ]
  },
  {
   "cell_type": "code",
   "execution_count": 18,
   "id": "1c5b359c",
   "metadata": {},
   "outputs": [
    {
     "name": "stdout",
     "output_type": "stream",
     "text": [
      "\n",
      "--- LogisticRegression Results ---\n",
      "        SMOTE applied: True\n",
      "              precision    recall  f1-score   support\n",
      "\n",
      "           0       0.40      0.63      0.49        30\n",
      "           1       0.79      0.60      0.68        70\n",
      "\n",
      "    accuracy                           0.61       100\n",
      "   macro avg       0.60      0.62      0.59       100\n",
      "weighted avg       0.68      0.61      0.63       100\n",
      "\n",
      "\n",
      "--- LogisticRegression Results ---\n",
      "        SMOTE applied: False\n",
      "              precision    recall  f1-score   support\n",
      "\n",
      "           0       0.50      0.43      0.46        30\n",
      "           1       0.77      0.81      0.79        70\n",
      "\n",
      "    accuracy                           0.70       100\n",
      "   macro avg       0.64      0.62      0.63       100\n",
      "weighted avg       0.69      0.70      0.69       100\n",
      "\n"
     ]
    }
   ],
   "source": [
    "# LR 10% Data\n",
    "fit_predict_metrics(log_reg, smote=True,  X_train=X_TRAIN_RESAMPLED_10, y_train=Y_TRAIN_RESAMPLED_10, X_test=X_TEST_10_SCALED, y_test=Y_TEST_10)\n",
    "fit_predict_metrics(log_reg, smote=False, X_train=X_TRAIN_10_SCALED,    y_train=Y_TRAIN_10,           X_test=X_TEST_10_SCALED, y_test=Y_TEST_10)"
   ]
  },
  {
   "cell_type": "code",
   "execution_count": 15,
   "id": "2ab5e0ea",
   "metadata": {},
   "outputs": [
    {
     "name": "stdout",
     "output_type": "stream",
     "text": [
      "\n",
      "--- LogisticRegression Results ---\n",
      "        SMOTE applied: True\n",
      "              precision    recall  f1-score   support\n",
      "\n",
      "           0       0.41      0.59      0.48        90\n",
      "           1       0.78      0.63      0.70       210\n",
      "\n",
      "    accuracy                           0.62       300\n",
      "   macro avg       0.60      0.61      0.59       300\n",
      "weighted avg       0.67      0.62      0.63       300\n",
      "\n",
      "\n",
      "--- LogisticRegression Results ---\n",
      "        SMOTE applied: False\n",
      "              precision    recall  f1-score   support\n",
      "\n",
      "           0       0.55      0.41      0.47        90\n",
      "           1       0.77      0.86      0.81       210\n",
      "\n",
      "    accuracy                           0.72       300\n",
      "   macro avg       0.66      0.63      0.64       300\n",
      "weighted avg       0.71      0.72      0.71       300\n",
      "\n"
     ]
    }
   ],
   "source": [
    "# LR 30% Data\n",
    "fit_predict_metrics(log_reg, smote=True,  X_train=X_TRAIN_RESAMPLED_30, y_train=Y_TRAIN_RESAMPLED_30, X_test=X_TEST_30_SCALED, y_test=Y_TEST_30)\n",
    "fit_predict_metrics(log_reg, smote=False, X_train=X_TRAIN_30_SCALED,    y_train=Y_TRAIN_30,           X_test=X_TEST_30_SCALED, y_test=Y_TEST_30)"
   ]
  },
  {
   "cell_type": "markdown",
   "id": "7f2288d7",
   "metadata": {},
   "source": [
    "### b) (SVM-C) Support Vector Machine Classifier"
   ]
  },
  {
   "cell_type": "code",
   "execution_count": 19,
   "id": "47dd6e15",
   "metadata": {},
   "outputs": [
    {
     "name": "stdout",
     "output_type": "stream",
     "text": [
      "\n",
      "--- SVC Results ---\n",
      "        SMOTE applied: True\n",
      "              precision    recall  f1-score   support\n",
      "\n",
      "           0       0.44      0.50      0.47        30\n",
      "           1       0.77      0.73      0.75        70\n",
      "\n",
      "    accuracy                           0.66       100\n",
      "   macro avg       0.61      0.61      0.61       100\n",
      "weighted avg       0.67      0.66      0.67       100\n",
      "\n",
      "\n",
      "--- SVC Results ---\n",
      "        SMOTE applied: False\n",
      "              precision    recall  f1-score   support\n",
      "\n",
      "           0       0.42      0.17      0.24        30\n",
      "           1       0.72      0.90      0.80        70\n",
      "\n",
      "    accuracy                           0.68       100\n",
      "   macro avg       0.57      0.53      0.52       100\n",
      "weighted avg       0.63      0.68      0.63       100\n",
      "\n"
     ]
    }
   ],
   "source": [
    "# SVC 10% Data\n",
    "fit_predict_metrics(svm_model, smote=True,  X_train=X_TRAIN_RESAMPLED_10, y_train=Y_TRAIN_RESAMPLED_10, X_test=X_TEST_10_SCALED, y_test=Y_TEST_10)\n",
    "fit_predict_metrics(svm_model, smote=False, X_train=X_TRAIN_10_SCALED,    y_train=Y_TRAIN_10,           X_test=X_TEST_10_SCALED, y_test=Y_TEST_10)"
   ]
  },
  {
   "cell_type": "code",
   "execution_count": null,
   "id": "63c31ab7",
   "metadata": {},
   "outputs": [
    {
     "name": "stdout",
     "output_type": "stream",
     "text": [
      "\n",
      "--- SVC Results ---\n",
      "        SMOTE applied: True\n",
      "              precision    recall  f1-score   support\n",
      "\n",
      "           0       0.42      0.47      0.44        90\n",
      "           1       0.76      0.72      0.74       210\n",
      "\n",
      "    accuracy                           0.65       300\n",
      "   macro avg       0.59      0.60      0.59       300\n",
      "weighted avg       0.66      0.65      0.65       300\n",
      "\n",
      "\n",
      "--- SVC Results ---\n",
      "        SMOTE applied: False\n",
      "              precision    recall  f1-score   support\n",
      "\n",
      "           0       0.42      0.18      0.25        90\n",
      "           1       0.72      0.90      0.80       210\n",
      "\n",
      "    accuracy                           0.68       300\n",
      "   macro avg       0.57      0.54      0.52       300\n",
      "weighted avg       0.63      0.68      0.63       300\n",
      "\n"
     ]
    }
   ],
   "source": [
    "# SVC 30% Data\n",
    "fit_predict_metrics(svm_model, smote=True,  X_train=X_TRAIN_RESAMPLED_30, y_train=Y_TRAIN_RESAMPLED_30, X_test=X_TEST_30_SCALED, y_test=Y_TEST_30)\n",
    "fit_predict_metrics(svm_model, smote=False, X_train=X_TRAIN_30_SCALED,    y_train=Y_TRAIN_30,           X_test=X_TEST_30_SCALED, y_test=Y_TEST_30)"
   ]
  },
  {
   "cell_type": "markdown",
   "id": "4ef39a8e",
   "metadata": {},
   "source": [
    "### c) Neural Networks"
   ]
  },
  {
   "cell_type": "code",
   "execution_count": 20,
   "id": "af47609c",
   "metadata": {},
   "outputs": [
    {
     "name": "stdout",
     "output_type": "stream",
     "text": [
      "\n",
      "--- MLPClassifier Results ---\n",
      "        SMOTE applied: True\n",
      "              precision    recall  f1-score   support\n",
      "\n",
      "           0       0.41      0.53      0.46        30\n",
      "           1       0.77      0.67      0.72        70\n",
      "\n",
      "    accuracy                           0.63       100\n",
      "   macro avg       0.59      0.60      0.59       100\n",
      "weighted avg       0.66      0.63      0.64       100\n",
      "\n",
      "\n",
      "--- MLPClassifier Results ---\n",
      "        SMOTE applied: False\n",
      "              precision    recall  f1-score   support\n",
      "\n",
      "           0       0.44      0.50      0.47        30\n",
      "           1       0.77      0.73      0.75        70\n",
      "\n",
      "    accuracy                           0.66       100\n",
      "   macro avg       0.61      0.61      0.61       100\n",
      "weighted avg       0.67      0.66      0.67       100\n",
      "\n"
     ]
    }
   ],
   "source": [
    "# MLP-C 10% Data\n",
    "fit_predict_metrics(nn_model, smote=True,  X_train=X_TRAIN_RESAMPLED_10, y_train=Y_TRAIN_RESAMPLED_10, X_test=X_TEST_10_SCALED, y_test=Y_TEST_10)\n",
    "fit_predict_metrics(nn_model, smote=False, X_train=X_TRAIN_10_SCALED,    y_train=Y_TRAIN_10,           X_test=X_TEST_10_SCALED, y_test=Y_TEST_10)"
   ]
  },
  {
   "cell_type": "code",
   "execution_count": null,
   "id": "34f26cc6",
   "metadata": {},
   "outputs": [
    {
     "name": "stdout",
     "output_type": "stream",
     "text": [
      "\n",
      "--- MLPClassifier Results ---\n",
      "        SMOTE applied: True\n",
      "              precision    recall  f1-score   support\n",
      "\n",
      "           0       0.45      0.48      0.46        90\n",
      "           1       0.77      0.75      0.76       210\n",
      "\n",
      "    accuracy                           0.67       300\n",
      "   macro avg       0.61      0.61      0.61       300\n",
      "weighted avg       0.67      0.67      0.67       300\n",
      "\n",
      "\n",
      "--- MLPClassifier Results ---\n",
      "        SMOTE applied: False\n",
      "              precision    recall  f1-score   support\n",
      "\n",
      "           0       0.44      0.44      0.44        90\n",
      "           1       0.76      0.76      0.76       210\n",
      "\n",
      "    accuracy                           0.66       300\n",
      "   macro avg       0.60      0.60      0.60       300\n",
      "weighted avg       0.66      0.66      0.66       300\n",
      "\n"
     ]
    }
   ],
   "source": [
    "# MLP-C 30% Data\n",
    "fit_predict_metrics(nn_model, smote=True,  X_train=X_TRAIN_RESAMPLED_30, y_train=Y_TRAIN_RESAMPLED_30, X_test=X_TEST_30_SCALED, y_test=Y_TEST_30)\n",
    "fit_predict_metrics(nn_model, smote=False, X_train=X_TRAIN_30_SCALED,    y_train=Y_TRAIN_30,           X_test=X_TEST_30_SCALED, y_test=Y_TEST_30)"
   ]
  },
  {
   "cell_type": "markdown",
   "id": "2a296886",
   "metadata": {},
   "source": [
    "# END"
   ]
  }
 ],
 "metadata": {
  "kernelspec": {
   "display_name": "gcd",
   "language": "python",
   "name": "python3"
  },
  "language_info": {
   "codemirror_mode": {
    "name": "ipython",
    "version": 3
   },
   "file_extension": ".py",
   "mimetype": "text/x-python",
   "name": "python",
   "nbconvert_exporter": "python",
   "pygments_lexer": "ipython3",
   "version": "3.12.11"
  }
 },
 "nbformat": 4,
 "nbformat_minor": 5
}
