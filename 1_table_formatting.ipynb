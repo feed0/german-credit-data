{
 "cells": [
  {
   "cell_type": "markdown",
   "id": "15e0186b",
   "metadata": {},
   "source": [
    "# `1 Table formatting`\n",
    "\n",
    "<ol>\n",
    "    <li>Libraries and constants</li>\n",
    "    <li>Multi index feature (label, description)</li>\n",
    "    <li>Dtypes</li>\n",
    "<ol>"
   ]
  },
  {
   "cell_type": "markdown",
   "id": "c613f4f3",
   "metadata": {},
   "source": [
    "## 1.1 Libraries and constants"
   ]
  },
  {
   "cell_type": "code",
   "execution_count": 384,
   "id": "9ec6d3dc",
   "metadata": {},
   "outputs": [],
   "source": [
    "# Libraries\n",
    "import pandas as pd"
   ]
  },
  {
   "cell_type": "code",
   "execution_count": 385,
   "id": "749eaad4",
   "metadata": {},
   "outputs": [],
   "source": [
    "# Constants\n",
    "COLUMNS_PATH                = \"data/metadata/columns.csv\"\n",
    "COLUMNS                     = pd.read_csv(COLUMNS_PATH, index_col=0)\n",
    "\n",
    "DTYPES                      = COLUMNS.dtype\n",
    "\n",
    "CLASSES_PATH                = \"data/metadata/classes.csv\"\n",
    "CLASSES                     = pd.read_csv(CLASSES_PATH, index_col=0)\n",
    "\n",
    "GERMAN_CREDIT_DATA_PATH     = \"data/statlog+german+credit+data/german.data\"\n",
    "GERMAN_CREDIT_DATA          = pd.read_csv(GERMAN_CREDIT_DATA_PATH, sep=' ', header=None)"
   ]
  },
  {
   "cell_type": "code",
   "execution_count": 386,
   "id": "d8fe79e6",
   "metadata": {},
   "outputs": [
    {
     "data": {
      "application/vnd.microsoft.datawrangler.viewer.v0+json": {
       "columns": [
        {
         "name": "label",
         "rawType": "object",
         "type": "string"
        },
        {
         "name": "dtype",
         "rawType": "object",
         "type": "string"
        },
        {
         "name": "description",
         "rawType": "object",
         "type": "string"
        }
       ],
       "ref": "599a36d6-2322-48ef-bc76-d69da36a1776",
       "rows": [
        [
         "A1",
         "category",
         "Status of existing checking account"
        ],
        [
         "A2",
         "int64",
         "Duration in month"
        ],
        [
         "A3",
         "category",
         "Credit history"
        ],
        [
         "A4",
         "category",
         "Purpose"
        ],
        [
         "A5",
         "int64",
         "Credit amount"
        ]
       ],
       "shape": {
        "columns": 2,
        "rows": 5
       }
      },
      "text/html": [
       "<div>\n",
       "<style scoped>\n",
       "    .dataframe tbody tr th:only-of-type {\n",
       "        vertical-align: middle;\n",
       "    }\n",
       "\n",
       "    .dataframe tbody tr th {\n",
       "        vertical-align: top;\n",
       "    }\n",
       "\n",
       "    .dataframe thead th {\n",
       "        text-align: right;\n",
       "    }\n",
       "</style>\n",
       "<table border=\"1\" class=\"dataframe\">\n",
       "  <thead>\n",
       "    <tr style=\"text-align: right;\">\n",
       "      <th></th>\n",
       "      <th>dtype</th>\n",
       "      <th>description</th>\n",
       "    </tr>\n",
       "    <tr>\n",
       "      <th>label</th>\n",
       "      <th></th>\n",
       "      <th></th>\n",
       "    </tr>\n",
       "  </thead>\n",
       "  <tbody>\n",
       "    <tr>\n",
       "      <th>A1</th>\n",
       "      <td>category</td>\n",
       "      <td>Status of existing checking account</td>\n",
       "    </tr>\n",
       "    <tr>\n",
       "      <th>A2</th>\n",
       "      <td>int64</td>\n",
       "      <td>Duration in month</td>\n",
       "    </tr>\n",
       "    <tr>\n",
       "      <th>A3</th>\n",
       "      <td>category</td>\n",
       "      <td>Credit history</td>\n",
       "    </tr>\n",
       "    <tr>\n",
       "      <th>A4</th>\n",
       "      <td>category</td>\n",
       "      <td>Purpose</td>\n",
       "    </tr>\n",
       "    <tr>\n",
       "      <th>A5</th>\n",
       "      <td>int64</td>\n",
       "      <td>Credit amount</td>\n",
       "    </tr>\n",
       "  </tbody>\n",
       "</table>\n",
       "</div>"
      ],
      "text/plain": [
       "          dtype                          description\n",
       "label                                               \n",
       "A1     category  Status of existing checking account\n",
       "A2        int64                    Duration in month\n",
       "A3     category                       Credit history\n",
       "A4     category                              Purpose\n",
       "A5        int64                        Credit amount"
      ]
     },
     "execution_count": 386,
     "metadata": {},
     "output_type": "execute_result"
    }
   ],
   "source": [
    "COLUMNS.head()"
   ]
  },
  {
   "cell_type": "code",
   "execution_count": 387,
   "id": "74264c5a",
   "metadata": {},
   "outputs": [
    {
     "data": {
      "application/vnd.microsoft.datawrangler.viewer.v0+json": {
       "columns": [
        {
         "name": "label",
         "rawType": "object",
         "type": "string"
        },
        {
         "name": "description",
         "rawType": "object",
         "type": "string"
        },
        {
         "name": "column_label",
         "rawType": "object",
         "type": "string"
        }
       ],
       "ref": "f59119f0-069e-4f63-84c7-1d97d34ecaab",
       "rows": [
        [
         "A11",
         "... < 0 DM",
         "A1"
        ],
        [
         "A12",
         "0 <= ... < 200 DM",
         "A1"
        ],
        [
         "A13",
         "... >= 200 DM/salary assignments for at least 1 year",
         "A1"
        ],
        [
         "A14",
         "no checking account",
         "A1"
        ],
        [
         "A30",
         "no credits taken/all credits paid back duly",
         "A3"
        ]
       ],
       "shape": {
        "columns": 2,
        "rows": 5
       }
      },
      "text/html": [
       "<div>\n",
       "<style scoped>\n",
       "    .dataframe tbody tr th:only-of-type {\n",
       "        vertical-align: middle;\n",
       "    }\n",
       "\n",
       "    .dataframe tbody tr th {\n",
       "        vertical-align: top;\n",
       "    }\n",
       "\n",
       "    .dataframe thead th {\n",
       "        text-align: right;\n",
       "    }\n",
       "</style>\n",
       "<table border=\"1\" class=\"dataframe\">\n",
       "  <thead>\n",
       "    <tr style=\"text-align: right;\">\n",
       "      <th></th>\n",
       "      <th>description</th>\n",
       "      <th>column_label</th>\n",
       "    </tr>\n",
       "    <tr>\n",
       "      <th>label</th>\n",
       "      <th></th>\n",
       "      <th></th>\n",
       "    </tr>\n",
       "  </thead>\n",
       "  <tbody>\n",
       "    <tr>\n",
       "      <th>A11</th>\n",
       "      <td>... &lt; 0 DM</td>\n",
       "      <td>A1</td>\n",
       "    </tr>\n",
       "    <tr>\n",
       "      <th>A12</th>\n",
       "      <td>0 &lt;= ... &lt; 200 DM</td>\n",
       "      <td>A1</td>\n",
       "    </tr>\n",
       "    <tr>\n",
       "      <th>A13</th>\n",
       "      <td>... &gt;= 200 DM/salary assignments for at least ...</td>\n",
       "      <td>A1</td>\n",
       "    </tr>\n",
       "    <tr>\n",
       "      <th>A14</th>\n",
       "      <td>no checking account</td>\n",
       "      <td>A1</td>\n",
       "    </tr>\n",
       "    <tr>\n",
       "      <th>A30</th>\n",
       "      <td>no credits taken/all credits paid back duly</td>\n",
       "      <td>A3</td>\n",
       "    </tr>\n",
       "  </tbody>\n",
       "</table>\n",
       "</div>"
      ],
      "text/plain": [
       "                                             description column_label\n",
       "label                                                                \n",
       "A11                                           ... < 0 DM           A1\n",
       "A12                                    0 <= ... < 200 DM           A1\n",
       "A13    ... >= 200 DM/salary assignments for at least ...           A1\n",
       "A14                                  no checking account           A1\n",
       "A30          no credits taken/all credits paid back duly           A3"
      ]
     },
     "execution_count": 387,
     "metadata": {},
     "output_type": "execute_result"
    }
   ],
   "source": [
    "CLASSES.head()"
   ]
  },
  {
   "cell_type": "code",
   "execution_count": 388,
   "id": "a7f23f4d",
   "metadata": {},
   "outputs": [
    {
     "data": {
      "application/vnd.microsoft.datawrangler.viewer.v0+json": {
       "columns": [
        {
         "name": "index",
         "rawType": "int64",
         "type": "integer"
        },
        {
         "name": "0",
         "rawType": "object",
         "type": "string"
        },
        {
         "name": "1",
         "rawType": "int64",
         "type": "integer"
        },
        {
         "name": "2",
         "rawType": "object",
         "type": "string"
        },
        {
         "name": "3",
         "rawType": "object",
         "type": "string"
        },
        {
         "name": "4",
         "rawType": "int64",
         "type": "integer"
        },
        {
         "name": "5",
         "rawType": "object",
         "type": "string"
        },
        {
         "name": "6",
         "rawType": "object",
         "type": "string"
        },
        {
         "name": "7",
         "rawType": "int64",
         "type": "integer"
        },
        {
         "name": "8",
         "rawType": "object",
         "type": "string"
        },
        {
         "name": "9",
         "rawType": "object",
         "type": "string"
        },
        {
         "name": "10",
         "rawType": "int64",
         "type": "integer"
        },
        {
         "name": "11",
         "rawType": "object",
         "type": "string"
        },
        {
         "name": "12",
         "rawType": "int64",
         "type": "integer"
        },
        {
         "name": "13",
         "rawType": "object",
         "type": "string"
        },
        {
         "name": "14",
         "rawType": "object",
         "type": "string"
        },
        {
         "name": "15",
         "rawType": "int64",
         "type": "integer"
        },
        {
         "name": "16",
         "rawType": "object",
         "type": "string"
        },
        {
         "name": "17",
         "rawType": "int64",
         "type": "integer"
        },
        {
         "name": "18",
         "rawType": "object",
         "type": "string"
        },
        {
         "name": "19",
         "rawType": "object",
         "type": "string"
        },
        {
         "name": "20",
         "rawType": "int64",
         "type": "integer"
        }
       ],
       "ref": "e1f86aa9-35e5-43ba-8a78-9c856020df39",
       "rows": [
        [
         "0",
         "A11",
         "6",
         "A34",
         "A43",
         "1169",
         "A65",
         "A75",
         "4",
         "A93",
         "A101",
         "4",
         "A121",
         "67",
         "A143",
         "A152",
         "2",
         "A173",
         "1",
         "A192",
         "A201",
         "1"
        ],
        [
         "1",
         "A12",
         "48",
         "A32",
         "A43",
         "5951",
         "A61",
         "A73",
         "2",
         "A92",
         "A101",
         "2",
         "A121",
         "22",
         "A143",
         "A152",
         "1",
         "A173",
         "1",
         "A191",
         "A201",
         "2"
        ],
        [
         "2",
         "A14",
         "12",
         "A34",
         "A46",
         "2096",
         "A61",
         "A74",
         "2",
         "A93",
         "A101",
         "3",
         "A121",
         "49",
         "A143",
         "A152",
         "1",
         "A172",
         "2",
         "A191",
         "A201",
         "1"
        ],
        [
         "3",
         "A11",
         "42",
         "A32",
         "A42",
         "7882",
         "A61",
         "A74",
         "2",
         "A93",
         "A103",
         "4",
         "A122",
         "45",
         "A143",
         "A153",
         "1",
         "A173",
         "2",
         "A191",
         "A201",
         "1"
        ],
        [
         "4",
         "A11",
         "24",
         "A33",
         "A40",
         "4870",
         "A61",
         "A73",
         "3",
         "A93",
         "A101",
         "4",
         "A124",
         "53",
         "A143",
         "A153",
         "2",
         "A173",
         "2",
         "A191",
         "A201",
         "2"
        ]
       ],
       "shape": {
        "columns": 21,
        "rows": 5
       }
      },
      "text/html": [
       "<div>\n",
       "<style scoped>\n",
       "    .dataframe tbody tr th:only-of-type {\n",
       "        vertical-align: middle;\n",
       "    }\n",
       "\n",
       "    .dataframe tbody tr th {\n",
       "        vertical-align: top;\n",
       "    }\n",
       "\n",
       "    .dataframe thead th {\n",
       "        text-align: right;\n",
       "    }\n",
       "</style>\n",
       "<table border=\"1\" class=\"dataframe\">\n",
       "  <thead>\n",
       "    <tr style=\"text-align: right;\">\n",
       "      <th></th>\n",
       "      <th>0</th>\n",
       "      <th>1</th>\n",
       "      <th>2</th>\n",
       "      <th>3</th>\n",
       "      <th>4</th>\n",
       "      <th>5</th>\n",
       "      <th>6</th>\n",
       "      <th>7</th>\n",
       "      <th>8</th>\n",
       "      <th>9</th>\n",
       "      <th>...</th>\n",
       "      <th>11</th>\n",
       "      <th>12</th>\n",
       "      <th>13</th>\n",
       "      <th>14</th>\n",
       "      <th>15</th>\n",
       "      <th>16</th>\n",
       "      <th>17</th>\n",
       "      <th>18</th>\n",
       "      <th>19</th>\n",
       "      <th>20</th>\n",
       "    </tr>\n",
       "  </thead>\n",
       "  <tbody>\n",
       "    <tr>\n",
       "      <th>0</th>\n",
       "      <td>A11</td>\n",
       "      <td>6</td>\n",
       "      <td>A34</td>\n",
       "      <td>A43</td>\n",
       "      <td>1169</td>\n",
       "      <td>A65</td>\n",
       "      <td>A75</td>\n",
       "      <td>4</td>\n",
       "      <td>A93</td>\n",
       "      <td>A101</td>\n",
       "      <td>...</td>\n",
       "      <td>A121</td>\n",
       "      <td>67</td>\n",
       "      <td>A143</td>\n",
       "      <td>A152</td>\n",
       "      <td>2</td>\n",
       "      <td>A173</td>\n",
       "      <td>1</td>\n",
       "      <td>A192</td>\n",
       "      <td>A201</td>\n",
       "      <td>1</td>\n",
       "    </tr>\n",
       "    <tr>\n",
       "      <th>1</th>\n",
       "      <td>A12</td>\n",
       "      <td>48</td>\n",
       "      <td>A32</td>\n",
       "      <td>A43</td>\n",
       "      <td>5951</td>\n",
       "      <td>A61</td>\n",
       "      <td>A73</td>\n",
       "      <td>2</td>\n",
       "      <td>A92</td>\n",
       "      <td>A101</td>\n",
       "      <td>...</td>\n",
       "      <td>A121</td>\n",
       "      <td>22</td>\n",
       "      <td>A143</td>\n",
       "      <td>A152</td>\n",
       "      <td>1</td>\n",
       "      <td>A173</td>\n",
       "      <td>1</td>\n",
       "      <td>A191</td>\n",
       "      <td>A201</td>\n",
       "      <td>2</td>\n",
       "    </tr>\n",
       "    <tr>\n",
       "      <th>2</th>\n",
       "      <td>A14</td>\n",
       "      <td>12</td>\n",
       "      <td>A34</td>\n",
       "      <td>A46</td>\n",
       "      <td>2096</td>\n",
       "      <td>A61</td>\n",
       "      <td>A74</td>\n",
       "      <td>2</td>\n",
       "      <td>A93</td>\n",
       "      <td>A101</td>\n",
       "      <td>...</td>\n",
       "      <td>A121</td>\n",
       "      <td>49</td>\n",
       "      <td>A143</td>\n",
       "      <td>A152</td>\n",
       "      <td>1</td>\n",
       "      <td>A172</td>\n",
       "      <td>2</td>\n",
       "      <td>A191</td>\n",
       "      <td>A201</td>\n",
       "      <td>1</td>\n",
       "    </tr>\n",
       "    <tr>\n",
       "      <th>3</th>\n",
       "      <td>A11</td>\n",
       "      <td>42</td>\n",
       "      <td>A32</td>\n",
       "      <td>A42</td>\n",
       "      <td>7882</td>\n",
       "      <td>A61</td>\n",
       "      <td>A74</td>\n",
       "      <td>2</td>\n",
       "      <td>A93</td>\n",
       "      <td>A103</td>\n",
       "      <td>...</td>\n",
       "      <td>A122</td>\n",
       "      <td>45</td>\n",
       "      <td>A143</td>\n",
       "      <td>A153</td>\n",
       "      <td>1</td>\n",
       "      <td>A173</td>\n",
       "      <td>2</td>\n",
       "      <td>A191</td>\n",
       "      <td>A201</td>\n",
       "      <td>1</td>\n",
       "    </tr>\n",
       "    <tr>\n",
       "      <th>4</th>\n",
       "      <td>A11</td>\n",
       "      <td>24</td>\n",
       "      <td>A33</td>\n",
       "      <td>A40</td>\n",
       "      <td>4870</td>\n",
       "      <td>A61</td>\n",
       "      <td>A73</td>\n",
       "      <td>3</td>\n",
       "      <td>A93</td>\n",
       "      <td>A101</td>\n",
       "      <td>...</td>\n",
       "      <td>A124</td>\n",
       "      <td>53</td>\n",
       "      <td>A143</td>\n",
       "      <td>A153</td>\n",
       "      <td>2</td>\n",
       "      <td>A173</td>\n",
       "      <td>2</td>\n",
       "      <td>A191</td>\n",
       "      <td>A201</td>\n",
       "      <td>2</td>\n",
       "    </tr>\n",
       "  </tbody>\n",
       "</table>\n",
       "<p>5 rows × 21 columns</p>\n",
       "</div>"
      ],
      "text/plain": [
       "    0   1    2    3     4    5    6   7    8     9   ...    11  12    13  \\\n",
       "0  A11   6  A34  A43  1169  A65  A75   4  A93  A101  ...  A121  67  A143   \n",
       "1  A12  48  A32  A43  5951  A61  A73   2  A92  A101  ...  A121  22  A143   \n",
       "2  A14  12  A34  A46  2096  A61  A74   2  A93  A101  ...  A121  49  A143   \n",
       "3  A11  42  A32  A42  7882  A61  A74   2  A93  A103  ...  A122  45  A143   \n",
       "4  A11  24  A33  A40  4870  A61  A73   3  A93  A101  ...  A124  53  A143   \n",
       "\n",
       "     14 15    16 17    18    19 20  \n",
       "0  A152  2  A173  1  A192  A201  1  \n",
       "1  A152  1  A173  1  A191  A201  2  \n",
       "2  A152  1  A172  2  A191  A201  1  \n",
       "3  A153  1  A173  2  A191  A201  1  \n",
       "4  A153  2  A173  2  A191  A201  2  \n",
       "\n",
       "[5 rows x 21 columns]"
      ]
     },
     "execution_count": 388,
     "metadata": {},
     "output_type": "execute_result"
    }
   ],
   "source": [
    "GERMAN_CREDIT_DATA.head()"
   ]
  },
  {
   "cell_type": "markdown",
   "id": "19ddc11b",
   "metadata": {},
   "source": [
    "## 1.2 Multi index feature (label, description)"
   ]
  },
  {
   "cell_type": "code",
   "execution_count": 389,
   "id": "82d1ab16",
   "metadata": {},
   "outputs": [],
   "source": [
    "# Apply (label, description) multi-index \n",
    "german_credit_data = GERMAN_CREDIT_DATA.copy()\n",
    "german_credit_data.columns = pd.MultiIndex.from_tuples(\n",
    "    list(zip(COLUMNS.index, COLUMNS.description)),\n",
    "    names=['label', 'description']\n",
    ")"
   ]
  },
  {
   "cell_type": "code",
   "execution_count": 390,
   "id": "c322719c",
   "metadata": {},
   "outputs": [
    {
     "data": {
      "application/vnd.microsoft.datawrangler.viewer.v0+json": {
       "columns": [
        {
         "name": "index",
         "rawType": "int64",
         "type": "integer"
        },
        {
         "name": "('A1', 'Status of existing checking account')",
         "rawType": "object",
         "type": "string"
        },
        {
         "name": "('A2', 'Duration in month')",
         "rawType": "int64",
         "type": "integer"
        },
        {
         "name": "('A3', 'Credit history')",
         "rawType": "object",
         "type": "string"
        },
        {
         "name": "('A4', 'Purpose')",
         "rawType": "object",
         "type": "string"
        },
        {
         "name": "('A5', 'Credit amount')",
         "rawType": "int64",
         "type": "integer"
        },
        {
         "name": "('A6', 'Savings account/bonds')",
         "rawType": "object",
         "type": "string"
        },
        {
         "name": "('A7', 'Present employment since')",
         "rawType": "object",
         "type": "string"
        },
        {
         "name": "('A8', 'Installment rate in percentage of disposable income')",
         "rawType": "int64",
         "type": "integer"
        },
        {
         "name": "('A9', 'Personal status and sex')",
         "rawType": "object",
         "type": "string"
        },
        {
         "name": "('A10', 'Other debtors / guarantors')",
         "rawType": "object",
         "type": "string"
        },
        {
         "name": "('A11', 'Present residence since')",
         "rawType": "int64",
         "type": "integer"
        },
        {
         "name": "('A12', 'Property')",
         "rawType": "object",
         "type": "string"
        },
        {
         "name": "('A13', 'Age in years')",
         "rawType": "int64",
         "type": "integer"
        },
        {
         "name": "('A14', 'Other installment plans')",
         "rawType": "object",
         "type": "string"
        },
        {
         "name": "('A15', 'Housing')",
         "rawType": "object",
         "type": "string"
        },
        {
         "name": "('A16', 'Number of existing credits at this bank')",
         "rawType": "int64",
         "type": "integer"
        },
        {
         "name": "('A17', 'Job')",
         "rawType": "object",
         "type": "string"
        },
        {
         "name": "('A18', 'Number of people being liable to provide maintenance for')",
         "rawType": "int64",
         "type": "integer"
        },
        {
         "name": "('A19', 'Telephone')",
         "rawType": "object",
         "type": "string"
        },
        {
         "name": "('A20', 'Foreign worker')",
         "rawType": "object",
         "type": "string"
        },
        {
         "name": "('T1', 'Credit quality')",
         "rawType": "int64",
         "type": "integer"
        }
       ],
       "ref": "9ea38f5e-4f7d-49a5-8b1d-ce3c82410622",
       "rows": [
        [
         "0",
         "A11",
         "6",
         "A34",
         "A43",
         "1169",
         "A65",
         "A75",
         "4",
         "A93",
         "A101",
         "4",
         "A121",
         "67",
         "A143",
         "A152",
         "2",
         "A173",
         "1",
         "A192",
         "A201",
         "1"
        ],
        [
         "1",
         "A12",
         "48",
         "A32",
         "A43",
         "5951",
         "A61",
         "A73",
         "2",
         "A92",
         "A101",
         "2",
         "A121",
         "22",
         "A143",
         "A152",
         "1",
         "A173",
         "1",
         "A191",
         "A201",
         "2"
        ],
        [
         "2",
         "A14",
         "12",
         "A34",
         "A46",
         "2096",
         "A61",
         "A74",
         "2",
         "A93",
         "A101",
         "3",
         "A121",
         "49",
         "A143",
         "A152",
         "1",
         "A172",
         "2",
         "A191",
         "A201",
         "1"
        ],
        [
         "3",
         "A11",
         "42",
         "A32",
         "A42",
         "7882",
         "A61",
         "A74",
         "2",
         "A93",
         "A103",
         "4",
         "A122",
         "45",
         "A143",
         "A153",
         "1",
         "A173",
         "2",
         "A191",
         "A201",
         "1"
        ],
        [
         "4",
         "A11",
         "24",
         "A33",
         "A40",
         "4870",
         "A61",
         "A73",
         "3",
         "A93",
         "A101",
         "4",
         "A124",
         "53",
         "A143",
         "A153",
         "2",
         "A173",
         "2",
         "A191",
         "A201",
         "2"
        ]
       ],
       "shape": {
        "columns": 21,
        "rows": 5
       }
      },
      "text/html": [
       "<div>\n",
       "<style scoped>\n",
       "    .dataframe tbody tr th:only-of-type {\n",
       "        vertical-align: middle;\n",
       "    }\n",
       "\n",
       "    .dataframe tbody tr th {\n",
       "        vertical-align: top;\n",
       "    }\n",
       "\n",
       "    .dataframe thead tr th {\n",
       "        text-align: left;\n",
       "    }\n",
       "</style>\n",
       "<table border=\"1\" class=\"dataframe\">\n",
       "  <thead>\n",
       "    <tr>\n",
       "      <th>label</th>\n",
       "      <th>A1</th>\n",
       "      <th>A2</th>\n",
       "      <th>A3</th>\n",
       "      <th>A4</th>\n",
       "      <th>A5</th>\n",
       "      <th>A6</th>\n",
       "      <th>A7</th>\n",
       "      <th>A8</th>\n",
       "      <th>A9</th>\n",
       "      <th>A10</th>\n",
       "      <th>...</th>\n",
       "      <th>A12</th>\n",
       "      <th>A13</th>\n",
       "      <th>A14</th>\n",
       "      <th>A15</th>\n",
       "      <th>A16</th>\n",
       "      <th>A17</th>\n",
       "      <th>A18</th>\n",
       "      <th>A19</th>\n",
       "      <th>A20</th>\n",
       "      <th>T1</th>\n",
       "    </tr>\n",
       "    <tr>\n",
       "      <th>description</th>\n",
       "      <th>Status of existing checking account</th>\n",
       "      <th>Duration in month</th>\n",
       "      <th>Credit history</th>\n",
       "      <th>Purpose</th>\n",
       "      <th>Credit amount</th>\n",
       "      <th>Savings account/bonds</th>\n",
       "      <th>Present employment since</th>\n",
       "      <th>Installment rate in percentage of disposable income</th>\n",
       "      <th>Personal status and sex</th>\n",
       "      <th>Other debtors / guarantors</th>\n",
       "      <th>...</th>\n",
       "      <th>Property</th>\n",
       "      <th>Age in years</th>\n",
       "      <th>Other installment plans</th>\n",
       "      <th>Housing</th>\n",
       "      <th>Number of existing credits at this bank</th>\n",
       "      <th>Job</th>\n",
       "      <th>Number of people being liable to provide maintenance for</th>\n",
       "      <th>Telephone</th>\n",
       "      <th>Foreign worker</th>\n",
       "      <th>Credit quality</th>\n",
       "    </tr>\n",
       "  </thead>\n",
       "  <tbody>\n",
       "    <tr>\n",
       "      <th>0</th>\n",
       "      <td>A11</td>\n",
       "      <td>6</td>\n",
       "      <td>A34</td>\n",
       "      <td>A43</td>\n",
       "      <td>1169</td>\n",
       "      <td>A65</td>\n",
       "      <td>A75</td>\n",
       "      <td>4</td>\n",
       "      <td>A93</td>\n",
       "      <td>A101</td>\n",
       "      <td>...</td>\n",
       "      <td>A121</td>\n",
       "      <td>67</td>\n",
       "      <td>A143</td>\n",
       "      <td>A152</td>\n",
       "      <td>2</td>\n",
       "      <td>A173</td>\n",
       "      <td>1</td>\n",
       "      <td>A192</td>\n",
       "      <td>A201</td>\n",
       "      <td>1</td>\n",
       "    </tr>\n",
       "    <tr>\n",
       "      <th>1</th>\n",
       "      <td>A12</td>\n",
       "      <td>48</td>\n",
       "      <td>A32</td>\n",
       "      <td>A43</td>\n",
       "      <td>5951</td>\n",
       "      <td>A61</td>\n",
       "      <td>A73</td>\n",
       "      <td>2</td>\n",
       "      <td>A92</td>\n",
       "      <td>A101</td>\n",
       "      <td>...</td>\n",
       "      <td>A121</td>\n",
       "      <td>22</td>\n",
       "      <td>A143</td>\n",
       "      <td>A152</td>\n",
       "      <td>1</td>\n",
       "      <td>A173</td>\n",
       "      <td>1</td>\n",
       "      <td>A191</td>\n",
       "      <td>A201</td>\n",
       "      <td>2</td>\n",
       "    </tr>\n",
       "    <tr>\n",
       "      <th>2</th>\n",
       "      <td>A14</td>\n",
       "      <td>12</td>\n",
       "      <td>A34</td>\n",
       "      <td>A46</td>\n",
       "      <td>2096</td>\n",
       "      <td>A61</td>\n",
       "      <td>A74</td>\n",
       "      <td>2</td>\n",
       "      <td>A93</td>\n",
       "      <td>A101</td>\n",
       "      <td>...</td>\n",
       "      <td>A121</td>\n",
       "      <td>49</td>\n",
       "      <td>A143</td>\n",
       "      <td>A152</td>\n",
       "      <td>1</td>\n",
       "      <td>A172</td>\n",
       "      <td>2</td>\n",
       "      <td>A191</td>\n",
       "      <td>A201</td>\n",
       "      <td>1</td>\n",
       "    </tr>\n",
       "    <tr>\n",
       "      <th>3</th>\n",
       "      <td>A11</td>\n",
       "      <td>42</td>\n",
       "      <td>A32</td>\n",
       "      <td>A42</td>\n",
       "      <td>7882</td>\n",
       "      <td>A61</td>\n",
       "      <td>A74</td>\n",
       "      <td>2</td>\n",
       "      <td>A93</td>\n",
       "      <td>A103</td>\n",
       "      <td>...</td>\n",
       "      <td>A122</td>\n",
       "      <td>45</td>\n",
       "      <td>A143</td>\n",
       "      <td>A153</td>\n",
       "      <td>1</td>\n",
       "      <td>A173</td>\n",
       "      <td>2</td>\n",
       "      <td>A191</td>\n",
       "      <td>A201</td>\n",
       "      <td>1</td>\n",
       "    </tr>\n",
       "    <tr>\n",
       "      <th>4</th>\n",
       "      <td>A11</td>\n",
       "      <td>24</td>\n",
       "      <td>A33</td>\n",
       "      <td>A40</td>\n",
       "      <td>4870</td>\n",
       "      <td>A61</td>\n",
       "      <td>A73</td>\n",
       "      <td>3</td>\n",
       "      <td>A93</td>\n",
       "      <td>A101</td>\n",
       "      <td>...</td>\n",
       "      <td>A124</td>\n",
       "      <td>53</td>\n",
       "      <td>A143</td>\n",
       "      <td>A153</td>\n",
       "      <td>2</td>\n",
       "      <td>A173</td>\n",
       "      <td>2</td>\n",
       "      <td>A191</td>\n",
       "      <td>A201</td>\n",
       "      <td>2</td>\n",
       "    </tr>\n",
       "  </tbody>\n",
       "</table>\n",
       "<p>5 rows × 21 columns</p>\n",
       "</div>"
      ],
      "text/plain": [
       "label                                        A1                A2  \\\n",
       "description Status of existing checking account Duration in month   \n",
       "0                                           A11                 6   \n",
       "1                                           A12                48   \n",
       "2                                           A14                12   \n",
       "3                                           A11                42   \n",
       "4                                           A11                24   \n",
       "\n",
       "label                   A3      A4            A5                    A6  \\\n",
       "description Credit history Purpose Credit amount Savings account/bonds   \n",
       "0                      A34     A43          1169                   A65   \n",
       "1                      A32     A43          5951                   A61   \n",
       "2                      A34     A46          2096                   A61   \n",
       "3                      A32     A42          7882                   A61   \n",
       "4                      A33     A40          4870                   A61   \n",
       "\n",
       "label                             A7  \\\n",
       "description Present employment since   \n",
       "0                                A75   \n",
       "1                                A73   \n",
       "2                                A74   \n",
       "3                                A74   \n",
       "4                                A73   \n",
       "\n",
       "label                                                        A8  \\\n",
       "description Installment rate in percentage of disposable income   \n",
       "0                                                            4    \n",
       "1                                                            2    \n",
       "2                                                            2    \n",
       "3                                                            2    \n",
       "4                                                            3    \n",
       "\n",
       "label                            A9                        A10  ...      A12  \\\n",
       "description Personal status and sex Other debtors / guarantors  ... Property   \n",
       "0                               A93                       A101  ...     A121   \n",
       "1                               A92                       A101  ...     A121   \n",
       "2                               A93                       A101  ...     A121   \n",
       "3                               A93                       A103  ...     A122   \n",
       "4                               A93                       A101  ...     A124   \n",
       "\n",
       "label                A13                     A14     A15  \\\n",
       "description Age in years Other installment plans Housing   \n",
       "0                     67                    A143    A152   \n",
       "1                     22                    A143    A152   \n",
       "2                     49                    A143    A152   \n",
       "3                     45                    A143    A153   \n",
       "4                     53                    A143    A153   \n",
       "\n",
       "label                                           A16   A17  \\\n",
       "description Number of existing credits at this bank   Job   \n",
       "0                                                 2  A173   \n",
       "1                                                 1  A173   \n",
       "2                                                 1  A172   \n",
       "3                                                 1  A173   \n",
       "4                                                 2  A173   \n",
       "\n",
       "label                                                            A18  \\\n",
       "description Number of people being liable to provide maintenance for   \n",
       "0                                                            1         \n",
       "1                                                            1         \n",
       "2                                                            2         \n",
       "3                                                            2         \n",
       "4                                                            2         \n",
       "\n",
       "label             A19            A20             T1  \n",
       "description Telephone Foreign worker Credit quality  \n",
       "0                A192           A201              1  \n",
       "1                A191           A201              2  \n",
       "2                A191           A201              1  \n",
       "3                A191           A201              1  \n",
       "4                A191           A201              2  \n",
       "\n",
       "[5 rows x 21 columns]"
      ]
     },
     "execution_count": 390,
     "metadata": {},
     "output_type": "execute_result"
    }
   ],
   "source": [
    "german_credit_data.head()"
   ]
  },
  {
   "cell_type": "markdown",
   "id": "165ee3e6",
   "metadata": {},
   "source": [
    "## 1.3 Dtypes"
   ]
  },
  {
   "cell_type": "code",
   "execution_count": 391,
   "id": "c8852065",
   "metadata": {},
   "outputs": [],
   "source": [
    "# Track dtypes evolution\n",
    "dtypes_evolution = german_credit_data.dtypes"
   ]
  },
  {
   "cell_type": "code",
   "execution_count": 392,
   "id": "0b566c3d",
   "metadata": {},
   "outputs": [
    {
     "data": {
      "application/vnd.microsoft.datawrangler.viewer.v0+json": {
       "columns": [
        {
         "name": "('label', 'description')",
         "rawType": "object",
         "type": "unknown"
        },
        {
         "name": "0",
         "rawType": "object",
         "type": "unknown"
        }
       ],
       "ref": "229c07a1-d92c-429d-8861-2d6981898c6f",
       "rows": [
        [
         "('A1', 'Status of existing checking account')",
         "object"
        ],
        [
         "('A2', 'Duration in month')",
         "int64"
        ],
        [
         "('A3', 'Credit history')",
         "object"
        ],
        [
         "('A4', 'Purpose')",
         "object"
        ],
        [
         "('A5', 'Credit amount')",
         "int64"
        ]
       ],
       "shape": {
        "columns": 1,
        "rows": 5
       }
      },
      "text/plain": [
       "label  description                        \n",
       "A1     Status of existing checking account    object\n",
       "A2     Duration in month                       int64\n",
       "A3     Credit history                         object\n",
       "A4     Purpose                                object\n",
       "A5     Credit amount                           int64\n",
       "dtype: object"
      ]
     },
     "execution_count": 392,
     "metadata": {},
     "output_type": "execute_result"
    }
   ],
   "source": [
    "dtypes_evolution.head()"
   ]
  },
  {
   "cell_type": "code",
   "execution_count": 393,
   "id": "cc9f3a42",
   "metadata": {},
   "outputs": [],
   "source": [
    "class MemoryUsageTracker:\n",
    "    def __init__(self, actual_memory_usage):\n",
    "        self.previous = None\n",
    "        self.actual = actual_memory_usage\n",
    "        self.diff = 0\n",
    "    \n",
    "    def update(self, new_memory_usage):\n",
    "        self.previous = self.actual\n",
    "        self.actual = new_memory_usage\n",
    "        self.diff = self.actual - self.previous\n",
    "    \n",
    "    def diff(self):\n",
    "        return self.actual - self.previous"
   ]
  },
  {
   "cell_type": "code",
   "execution_count": null,
   "id": "84512524",
   "metadata": {},
   "outputs": [],
   "source": [
    "# Track memory usage\n",
    "memory_tracker = MemoryUsageTracker(german_credit_data.memory_usage(deep=True).sum())"
   ]
  },
  {
   "cell_type": "code",
   "execution_count": 395,
   "id": "4857b7ec",
   "metadata": {},
   "outputs": [],
   "source": [
    "# Convert dtypes\n",
    "for (column, _description) in german_credit_data.columns:\n",
    "    \n",
    "    german_credit_data[column] = german_credit_data[column].astype(DTYPES[column])"
   ]
  },
  {
   "cell_type": "code",
   "execution_count": 396,
   "id": "3cd0f4e1",
   "metadata": {},
   "outputs": [],
   "source": [
    "# Append dtypes evolution\n",
    "dtypes_evolution = pd.concat([dtypes_evolution, german_credit_data.dtypes], axis=1)\n",
    "dtypes_evolution.columns = ['initial', 'final']"
   ]
  },
  {
   "cell_type": "code",
   "execution_count": 397,
   "id": "4abd23b0",
   "metadata": {},
   "outputs": [
    {
     "data": {
      "application/vnd.microsoft.datawrangler.viewer.v0+json": {
       "columns": [
        {
         "name": "('label', 'description')",
         "rawType": "object",
         "type": "unknown"
        },
        {
         "name": "initial",
         "rawType": "object",
         "type": "unknown"
        },
        {
         "name": "final",
         "rawType": "object",
         "type": "unknown"
        }
       ],
       "ref": "09d19d1c-4625-4d80-a6e1-f57854ca0a41",
       "rows": [
        [
         "('A1', 'Status of existing checking account')",
         "object",
         "category"
        ],
        [
         "('A2', 'Duration in month')",
         "int64",
         "int64"
        ],
        [
         "('A3', 'Credit history')",
         "object",
         "category"
        ],
        [
         "('A4', 'Purpose')",
         "object",
         "category"
        ],
        [
         "('A5', 'Credit amount')",
         "int64",
         "int64"
        ]
       ],
       "shape": {
        "columns": 2,
        "rows": 5
       }
      },
      "text/html": [
       "<div>\n",
       "<style scoped>\n",
       "    .dataframe tbody tr th:only-of-type {\n",
       "        vertical-align: middle;\n",
       "    }\n",
       "\n",
       "    .dataframe tbody tr th {\n",
       "        vertical-align: top;\n",
       "    }\n",
       "\n",
       "    .dataframe thead th {\n",
       "        text-align: right;\n",
       "    }\n",
       "</style>\n",
       "<table border=\"1\" class=\"dataframe\">\n",
       "  <thead>\n",
       "    <tr style=\"text-align: right;\">\n",
       "      <th></th>\n",
       "      <th></th>\n",
       "      <th>initial</th>\n",
       "      <th>final</th>\n",
       "    </tr>\n",
       "    <tr>\n",
       "      <th>label</th>\n",
       "      <th>description</th>\n",
       "      <th></th>\n",
       "      <th></th>\n",
       "    </tr>\n",
       "  </thead>\n",
       "  <tbody>\n",
       "    <tr>\n",
       "      <th>A1</th>\n",
       "      <th>Status of existing checking account</th>\n",
       "      <td>object</td>\n",
       "      <td>category</td>\n",
       "    </tr>\n",
       "    <tr>\n",
       "      <th>A2</th>\n",
       "      <th>Duration in month</th>\n",
       "      <td>int64</td>\n",
       "      <td>int64</td>\n",
       "    </tr>\n",
       "    <tr>\n",
       "      <th>A3</th>\n",
       "      <th>Credit history</th>\n",
       "      <td>object</td>\n",
       "      <td>category</td>\n",
       "    </tr>\n",
       "    <tr>\n",
       "      <th>A4</th>\n",
       "      <th>Purpose</th>\n",
       "      <td>object</td>\n",
       "      <td>category</td>\n",
       "    </tr>\n",
       "    <tr>\n",
       "      <th>A5</th>\n",
       "      <th>Credit amount</th>\n",
       "      <td>int64</td>\n",
       "      <td>int64</td>\n",
       "    </tr>\n",
       "  </tbody>\n",
       "</table>\n",
       "</div>"
      ],
      "text/plain": [
       "                                          initial     final\n",
       "label description                                          \n",
       "A1    Status of existing checking account  object  category\n",
       "A2    Duration in month                     int64     int64\n",
       "A3    Credit history                       object  category\n",
       "A4    Purpose                              object  category\n",
       "A5    Credit amount                         int64     int64"
      ]
     },
     "execution_count": 397,
     "metadata": {},
     "output_type": "execute_result"
    }
   ],
   "source": [
    "dtypes_evolution.head()"
   ]
  },
  {
   "cell_type": "code",
   "execution_count": 398,
   "id": "77b362af",
   "metadata": {},
   "outputs": [],
   "source": [
    "# Update memory usage tracker\n",
    "memory_tracker.update(german_credit_data.memory_usage(deep=True).sum())"
   ]
  },
  {
   "cell_type": "code",
   "execution_count": null,
   "id": "28b4a108",
   "metadata": {},
   "outputs": [
    {
     "name": "stdout",
     "output_type": "stream",
     "text": [
      "Previous usage:             \t851144 bytes\n",
      "Current usage:              \t74978 bytes\n",
      "Memory usage difference:    \t-776166 bytes\n"
     ]
    }
   ],
   "source": [
    "# Visualize memory usage\n",
    "print(f\"Previous usage:             \\t{memory_tracker.previous} bytes\")\n",
    "print(f\"Current usage:              \\t{memory_tracker.actual} bytes\")\n",
    "print(f\"Memory usage difference:    \\t{memory_tracker.diff} bytes\")"
   ]
  },
  {
   "cell_type": "markdown",
   "id": "6fd30d37",
   "metadata": {},
   "source": [
    "## 1.?? Replace class labels by their descriptions\n",
    "\n",
    ">This is doable, but only serves visualization.<br>\n",
    "Using CATEGORICAL_COLUMNS.to_dict() makes this easy.\n",
    "\n",
    "> Thus this should be avoided in data!\n"
   ]
  },
  {
   "cell_type": "code",
   "execution_count": 400,
   "id": "a43ad41d",
   "metadata": {},
   "outputs": [],
   "source": [
    "# CATEGORICAL_COLUMNS = CLASSES.column_label.unique()\n",
    "# CATEGORICAL_COLUMNS"
   ]
  },
  {
   "cell_type": "code",
   "execution_count": 401,
   "id": "a68be1a2",
   "metadata": {},
   "outputs": [],
   "source": [
    "# # Replace class labels by their descriptions\n",
    "\n",
    "# ## Iterate over the columns\n",
    "# for (column, _description) in german_credit_data.columns:\n",
    "    \n",
    "#     ### If the column is categorical\n",
    "#     if column in CATEGORICAL_COLUMNS:\n",
    "        \n",
    "#         #### Then replace the class' label by its description \n",
    "#         german_credit_data[column] = german_credit_data[column].replace(\n",
    "            \n",
    "#             CLASSES.description\n",
    "#                 .to_dict()\n",
    "#         )\n",
    "        "
   ]
  },
  {
   "cell_type": "code",
   "execution_count": 402,
   "id": "d364ccf8",
   "metadata": {},
   "outputs": [],
   "source": [
    "# german_credit_data.head()"
   ]
  }
 ],
 "metadata": {
  "kernelspec": {
   "display_name": "german-data-venv",
   "language": "python",
   "name": "python3"
  },
  "language_info": {
   "codemirror_mode": {
    "name": "ipython",
    "version": 3
   },
   "file_extension": ".py",
   "mimetype": "text/x-python",
   "name": "python",
   "nbconvert_exporter": "python",
   "pygments_lexer": "ipython3",
   "version": "3.11.13"
  }
 },
 "nbformat": 4,
 "nbformat_minor": 5
}
