{
 "cells": [
  {
   "cell_type": "markdown",
   "id": "3312e238",
   "metadata": {},
   "source": [
    "# `2.2 Pre-processing`\n",
    "\n",
    "1. Categorical encoding\n",
    "1. Numerical scaling\n",
    "1. Test spliting\n",
    "    - Class balancing"
   ]
  },
  {
   "cell_type": "markdown",
   "id": "47d4c78a",
   "metadata": {},
   "source": [
    "## 2.2.0 Libraries and constants"
   ]
  },
  {
   "cell_type": "code",
   "execution_count": 1,
   "id": "32f91f1e",
   "metadata": {},
   "outputs": [],
   "source": [
    "# Libraries\n",
    "import pandas as pd\n",
    "import numpy as np\n",
    "import matplotlib.pyplot as plt"
   ]
  },
  {
   "cell_type": "code",
   "execution_count": 2,
   "id": "9d302448",
   "metadata": {},
   "outputs": [],
   "source": [
    "# Paths\n",
    "SELECTION_CSV_PATH  = 'data/processed-data/2-fayaad-1-selection.csv'\n",
    "COLUMNS_PATH        = 'data/metadata/columns.csv'"
   ]
  },
  {
   "cell_type": "code",
   "execution_count": 3,
   "id": "7346cc96",
   "metadata": {},
   "outputs": [],
   "source": [
    "# Constants\n",
    "SELECTION_DF = pd.read_csv(SELECTION_CSV_PATH)\n",
    "COLUMNS      = pd.read_csv(COLUMNS_PATH)\n",
    "DTYPES       = pd.read_csv(COLUMNS_PATH, index_col=0).dtype"
   ]
  },
  {
   "cell_type": "code",
   "execution_count": 4,
   "id": "8421b65a",
   "metadata": {},
   "outputs": [],
   "source": [
    "# Dtypes\n",
    "german_credit_data: pd.DataFrame = SELECTION_DF.copy()\n",
    "\n",
    "for column in german_credit_data.columns:\n",
    "    german_credit_data[column] = german_credit_data[column].astype(DTYPES[column])"
   ]
  },
  {
   "cell_type": "markdown",
   "id": "1a8ce815",
   "metadata": {},
   "source": [
    "## 2.2.1 Categorical encoding\n",
    "\n",
    "- Categorical columns (OH = One Hot encoding, Or = Ordinal encoding)\n",
    "        - [OH] A3 - Credit history\n",
    "        - [OH] A4 - Purpose\n",
    "    - [Or] A6 - Savings account/bonds\n",
    "    - [Or] A7 - Present employment since\n",
    "        - [OH] A9 - Personal status and sex\n",
    "    - [Or] A11 - Present residence since\n",
    "        - [OH] A12 - Property\n",
    "        - [OH] A15 - Housing"
   ]
  },
  {
   "cell_type": "code",
   "execution_count": 5,
   "id": "c686c3b4",
   "metadata": {},
   "outputs": [],
   "source": [
    "# Categorical encoding arrays with descriptions\n",
    "ordinal_columns = [\n",
    "                   'A6 - Savings account/bonds',\n",
    "                   'A7 - Present employment since',\n",
    "                   'A11 - Present residence since',]\n",
    "\n",
    "onehot_columns = ['A3 - Credit history',\n",
    "                  'A4 - Purpose',\n",
    "                  'A9 - Personal status and sex',\n",
    "                  'A12 - Property',\n",
    "                  'A15 - Housing',]"
   ]
  },
  {
   "cell_type": "code",
   "execution_count": 6,
   "id": "f274ce9f",
   "metadata": {},
   "outputs": [
    {
     "name": "stdout",
     "output_type": "stream",
     "text": [
      "<class 'pandas.core.frame.DataFrame'>\n",
      "RangeIndex: 1000 entries, 0 to 999\n",
      "Data columns (total 16 columns):\n",
      " #   Column                                                          Non-Null Count  Dtype   \n",
      "---  ------                                                          --------------  -----   \n",
      " 0   A2 - Duration in month                                          1000 non-null   int64   \n",
      " 1   A3 - Credit history                                             1000 non-null   category\n",
      " 2   A4 - Purpose                                                    988 non-null    category\n",
      " 3   A5 - Credit amount                                              1000 non-null   int64   \n",
      " 4   A6 - Savings account/bonds                                      817 non-null    category\n",
      " 5   A7 - Present employment since                                   1000 non-null   category\n",
      " 6   A9 - Personal status and sex                                    1000 non-null   category\n",
      " 7   A11 - Present residence since                                   1000 non-null   int64   \n",
      " 8   A12 - Property                                                  846 non-null    category\n",
      " 9   A13 - Age in years                                              1000 non-null   int64   \n",
      " 10  A15 - Housing                                                   1000 non-null   category\n",
      " 11  A16 - Number of existing credits at this bank                   1000 non-null   int64   \n",
      " 12  A18 - Number of people being liable to provide maintenance for  1000 non-null   int64   \n",
      " 13  A19 - Telephone                                                 1000 non-null   bool    \n",
      " 14  A20 - Foreign worker                                            1000 non-null   bool    \n",
      " 15  T1 - Is good credit                                             1000 non-null   bool    \n",
      "dtypes: bool(3), category(7), int64(6)\n",
      "memory usage: 58.2 KB\n"
     ]
    }
   ],
   "source": [
    "german_credit_data.info()"
   ]
  },
  {
   "cell_type": "code",
   "execution_count": 8,
   "id": "510c9b5e",
   "metadata": {},
   "outputs": [
    {
     "name": "stdout",
     "output_type": "stream",
     "text": [
      "Ordinal mapping for A6 - Savings account/bonds: {'A61': 0, 'A62': 1, 'A63': 2, 'A64': 3, nan: 4}\n",
      "Ordinal mapping for A7 - Present employment since: {'A71': 0, 'A72': 1, 'A73': 2, 'A74': 3, 'A75': 4}\n",
      "Ordinal mapping for A11 - Present residence since: {np.int64(1): 0, np.int64(2): 1, np.int64(3): 2, np.int64(4): 3}\n"
     ]
    }
   ],
   "source": [
    "# Ordinal encoding\n",
    "from sklearn.preprocessing import OrdinalEncoder\n",
    "\n",
    "ordinal_encoder = OrdinalEncoder()\n",
    "german_credit_data[ordinal_columns] = ordinal_encoder.fit_transform(german_credit_data[ordinal_columns])\n",
    "\n",
    "# print mapping for each column\n",
    "for col, cats in zip(ordinal_columns, ordinal_encoder.categories_):\n",
    "    mapping = {cat: int(i) for i, cat in enumerate(cats)}\n",
    "    print(f\"Ordinal mapping for {col}: {mapping}\")"
   ]
  },
  {
   "cell_type": "code",
   "execution_count": null,
   "id": "1cd0b63b",
   "metadata": {},
   "outputs": [],
   "source": [
    "german_credit_data.info()"
   ]
  },
  {
   "cell_type": "code",
   "execution_count": null,
   "id": "faa5b99c",
   "metadata": {},
   "outputs": [],
   "source": [
    "# One-hot encoding"
   ]
  },
  {
   "cell_type": "markdown",
   "id": "32c7ee00",
   "metadata": {},
   "source": [
    "## 2.2.2 Numerical scaling"
   ]
  },
  {
   "cell_type": "code",
   "execution_count": null,
   "id": "217b527d",
   "metadata": {},
   "outputs": [],
   "source": [
    "# Numerical scaling"
   ]
  },
  {
   "cell_type": "markdown",
   "id": "a2ec40dc",
   "metadata": {},
   "source": [
    "## 2.2.3 Test spliting"
   ]
  },
  {
   "cell_type": "code",
   "execution_count": null,
   "id": "c9564254",
   "metadata": {},
   "outputs": [],
   "source": [
    "# Test spliting"
   ]
  },
  {
   "cell_type": "markdown",
   "id": "480dabf4",
   "metadata": {},
   "source": [
    "### Class balancing"
   ]
  },
  {
   "cell_type": "code",
   "execution_count": null,
   "id": "c20683e8",
   "metadata": {},
   "outputs": [],
   "source": [
    "# Class balancing"
   ]
  },
  {
   "cell_type": "markdown",
   "id": "19ba4e88",
   "metadata": {},
   "source": []
  }
 ],
 "metadata": {
  "kernelspec": {
   "display_name": "gcd",
   "language": "python",
   "name": "python3"
  },
  "language_info": {
   "codemirror_mode": {
    "name": "ipython",
    "version": 3
   },
   "file_extension": ".py",
   "mimetype": "text/x-python",
   "name": "python",
   "nbconvert_exporter": "python",
   "pygments_lexer": "ipython3",
   "version": "3.12.11"
  }
 },
 "nbformat": 4,
 "nbformat_minor": 5
}
