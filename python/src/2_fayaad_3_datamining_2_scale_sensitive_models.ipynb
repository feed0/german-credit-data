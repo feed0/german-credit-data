{
 "cells": [
  {
   "cell_type": "markdown",
   "id": "776a72ce",
   "metadata": {},
   "source": [
    "# `2.3 b) Scale sensitive models`\n",
    "\n",
    "1. Numerical Scaling\n",
    "1. (SMOTE) 'Synthetic Minority Over-sampling Technique' class balancing \n",
    "1. Modeling\n",
    "    - a) Logistic Regression\n",
    "    - b) (SVM) Support Vectore Machine\n",
    "    - c) Neural Networks"
   ]
  },
  {
   "cell_type": "markdown",
   "id": "444cb2b8",
   "metadata": {},
   "source": [
    "## 2.3.0 Libraries and constants"
   ]
  },
  {
   "cell_type": "code",
   "execution_count": 1,
   "id": "6f6f6f98",
   "metadata": {},
   "outputs": [],
   "source": [
    "# Libraries\n",
    "import pandas as pd\n",
    "import numpy as np\n",
    "import matplotlib.pyplot as plt"
   ]
  },
  {
   "cell_type": "code",
   "execution_count": 2,
   "id": "35c4bb33",
   "metadata": {},
   "outputs": [],
   "source": [
    "# Paths\n",
    "TRAIN_SET_PATH  = 'data/processed-data/2-fayaad-2-train_processed.csv'\n",
    "TEST_SET_PATH   = 'data/processed-data/2-fayaad-2-test_processed.csv'\n",
    "\n",
    "# Constants\n",
    "TRAIN_SET_DF = pd.read_csv(TRAIN_SET_PATH)\n",
    "TEST_SET_DF  = pd.read_csv(TEST_SET_PATH)\n",
    "\n",
    "TARGET_COLUMN = 'T1 - Is good credit'\n",
    "\n",
    "Y_TRAIN, X_TRAIN = TRAIN_SET_DF[TARGET_COLUMN], TRAIN_SET_DF.drop(columns=[TARGET_COLUMN])\n",
    "Y_TEST,  X_TEST  = TEST_SET_DF[TARGET_COLUMN],  TEST_SET_DF.drop(columns=[TARGET_COLUMN])\n",
    "\n",
    "RANDOM_STATE = 42"
   ]
  },
  {
   "cell_type": "markdown",
   "id": "3d7f1d75",
   "metadata": {},
   "source": [
    "## 2.3.2 Numerical Scaling"
   ]
  },
  {
   "cell_type": "code",
   "execution_count": 3,
   "id": "965c5eca",
   "metadata": {},
   "outputs": [],
   "source": [
    "from sklearn.preprocessing import StandardScaler"
   ]
  },
  {
   "cell_type": "code",
   "execution_count": 4,
   "id": "556697bb",
   "metadata": {},
   "outputs": [],
   "source": [
    "# Fit to the training data only\n",
    "scaler = StandardScaler()\n",
    "scaler.fit(X_TRAIN)\n",
    "\n",
    "# Transform both the training and testing data\n",
    "X_TRAIN_SCALED = pd.DataFrame(scaler.transform(X_TRAIN), columns=X_TRAIN.columns)\n",
    "X_TEST_SCALED  = pd.DataFrame(scaler.transform(X_TEST),  columns=X_TEST.columns)"
   ]
  },
  {
   "cell_type": "markdown",
   "id": "3120d361",
   "metadata": {},
   "source": [
    "## 2.3.2 Class balancing"
   ]
  },
  {
   "cell_type": "code",
   "execution_count": 5,
   "id": "648bbc54",
   "metadata": {},
   "outputs": [],
   "source": [
    "from imblearn.over_sampling import SMOTE"
   ]
  },
  {
   "cell_type": "code",
   "execution_count": 6,
   "id": "95e58514",
   "metadata": {},
   "outputs": [],
   "source": [
    "# Instantiate SMOTE\n",
    "smote = SMOTE(random_state = RANDOM_STATE)\n",
    "\n",
    "# Fit and resample ONLY on the training data\n",
    "X_TRAIN_RESAMPLED, Y_TRAIN_RESAMPLED = smote.fit_resample(X_TRAIN_SCALED, Y_TRAIN)"
   ]
  },
  {
   "cell_type": "markdown",
   "id": "21a64e01",
   "metadata": {},
   "source": [
    "## 2.3.3 Modeling"
   ]
  },
  {
   "cell_type": "code",
   "execution_count": 7,
   "id": "4219db87",
   "metadata": {},
   "outputs": [],
   "source": [
    "from sklearn.metrics import classification_report, ConfusionMatrixDisplay\n",
    "\n",
    "from sklearn.linear_model import LogisticRegression\n",
    "from sklearn.svm import SVC\n",
    "from sklearn.neural_network import MLPClassifier"
   ]
  },
  {
   "cell_type": "code",
   "execution_count": null,
   "id": "4fab05a9",
   "metadata": {},
   "outputs": [],
   "source": [
    "def fit_predict_metrics(model, smote: bool, X_train, y_train, X_test, y_test):\n",
    "    \n",
    "    print(f\"\\n--- {model.__class__.__name__} Results ---\")\n",
    "    print(f\"SMOTE applied: {smote}\")\n",
    "    \n",
    "    model.fit(X_train, y_train)\n",
    "    y_pred = model.predict(X_test)\n",
    "\n",
    "    print(classification_report(y_test, y_pred))"
   ]
  },
  {
   "cell_type": "code",
   "execution_count": 9,
   "id": "3df2e6d8",
   "metadata": {},
   "outputs": [],
   "source": [
    "log_reg = LogisticRegression(random_state=RANDOM_STATE)\n",
    "svm_model = SVC(random_state=RANDOM_STATE)\n",
    "nn_model = MLPClassifier(random_state=RANDOM_STATE, max_iter=1000)"
   ]
  },
  {
   "cell_type": "markdown",
   "id": "afe311d2",
   "metadata": {},
   "source": [
    "### a) Logistic regression"
   ]
  },
  {
   "cell_type": "code",
   "execution_count": 24,
   "id": "2ab5e0ea",
   "metadata": {},
   "outputs": [
    {
     "name": "stdout",
     "output_type": "stream",
     "text": [
      "\n",
      "--- LogisticRegression Results ---\n",
      "SMOTE applied.\n",
      "              precision    recall  f1-score   support\n",
      "\n",
      "           0       0.41      0.59      0.48        90\n",
      "           1       0.78      0.63      0.70       210\n",
      "\n",
      "    accuracy                           0.62       300\n",
      "   macro avg       0.60      0.61      0.59       300\n",
      "weighted avg       0.67      0.62      0.63       300\n",
      "\n",
      "\n",
      "--- LogisticRegression Results ---\n",
      "No SMOTE.\n",
      "              precision    recall  f1-score   support\n",
      "\n",
      "           0       0.55      0.41      0.47        90\n",
      "           1       0.77      0.86      0.81       210\n",
      "\n",
      "    accuracy                           0.72       300\n",
      "   macro avg       0.66      0.63      0.64       300\n",
      "weighted avg       0.71      0.72      0.71       300\n",
      "\n"
     ]
    }
   ],
   "source": [
    "fit_predict_metrics(log_reg,   smote=True,  X_train=X_TRAIN_RESAMPLED, y_train=Y_TRAIN_RESAMPLED, X_test=X_TEST_SCALED, y_test=Y_TEST)\n",
    "fit_predict_metrics(log_reg,   smote=False, X_train=X_TRAIN_SCALED, y_train=Y_TRAIN, X_test=X_TEST_SCALED, y_test=Y_TEST)"
   ]
  },
  {
   "cell_type": "markdown",
   "id": "7f2288d7",
   "metadata": {},
   "source": [
    "### b) (SVM) Support Vector Machine"
   ]
  },
  {
   "cell_type": "code",
   "execution_count": 26,
   "id": "63c31ab7",
   "metadata": {},
   "outputs": [
    {
     "name": "stdout",
     "output_type": "stream",
     "text": [
      "\n",
      "--- SVC Results ---\n",
      "SMOTE applied.\n",
      "              precision    recall  f1-score   support\n",
      "\n",
      "           0       0.42      0.47      0.44        90\n",
      "           1       0.76      0.72      0.74       210\n",
      "\n",
      "    accuracy                           0.65       300\n",
      "   macro avg       0.59      0.60      0.59       300\n",
      "weighted avg       0.66      0.65      0.65       300\n",
      "\n",
      "\n",
      "--- SVC Results ---\n",
      "No SMOTE.\n",
      "              precision    recall  f1-score   support\n",
      "\n",
      "           0       0.42      0.18      0.25        90\n",
      "           1       0.72      0.90      0.80       210\n",
      "\n",
      "    accuracy                           0.68       300\n",
      "   macro avg       0.57      0.54      0.52       300\n",
      "weighted avg       0.63      0.68      0.63       300\n",
      "\n"
     ]
    }
   ],
   "source": [
    "fit_predict_metrics(svm_model, smote=True,  X_train=X_TRAIN_RESAMPLED, y_train=Y_TRAIN_RESAMPLED, X_test=X_TEST_SCALED, y_test=Y_TEST)\n",
    "fit_predict_metrics(svm_model, smote=False, X_train=X_TRAIN_SCALED, y_train=Y_TRAIN, X_test=X_TEST_SCALED, y_test=Y_TEST)"
   ]
  },
  {
   "cell_type": "markdown",
   "id": "4ef39a8e",
   "metadata": {},
   "source": [
    "### c) Neural Networks"
   ]
  },
  {
   "cell_type": "markdown",
   "id": "112d0d7b",
   "metadata": {},
   "source": []
  },
  {
   "cell_type": "code",
   "execution_count": null,
   "id": "34f26cc6",
   "metadata": {},
   "outputs": [
    {
     "name": "stdout",
     "output_type": "stream",
     "text": [
      "\n",
      "--- MLPClassifier Results ---\n",
      "SMOTE applied.\n",
      "              precision    recall  f1-score   support\n",
      "\n",
      "           0       0.45      0.48      0.46        90\n",
      "           1       0.77      0.75      0.76       210\n",
      "\n",
      "    accuracy                           0.67       300\n",
      "   macro avg       0.61      0.61      0.61       300\n",
      "weighted avg       0.67      0.67      0.67       300\n",
      "\n",
      "\n",
      "--- MLPClassifier Results ---\n",
      "No SMOTE.\n",
      "              precision    recall  f1-score   support\n",
      "\n",
      "           0       0.44      0.44      0.44        90\n",
      "           1       0.76      0.76      0.76       210\n",
      "\n",
      "    accuracy                           0.66       300\n",
      "   macro avg       0.60      0.60      0.60       300\n",
      "weighted avg       0.66      0.66      0.66       300\n",
      "\n"
     ]
    }
   ],
   "source": [
    "fit_predict_metrics(nn_model, smote=True,  X_train=X_TRAIN_RESAMPLED, y_train=Y_TRAIN_RESAMPLED, X_test=X_TEST_SCALED, y_test=Y_TEST)\n",
    "fit_predict_metrics(nn_model, smote=False, X_train=X_TRAIN_SCALED, y_train=Y_TRAIN, X_test=X_TEST_SCALED, y_test=Y_TEST)"
   ]
  },
  {
   "cell_type": "markdown",
   "id": "2a296886",
   "metadata": {},
   "source": [
    "# END"
   ]
  },
  {
   "cell_type": "markdown",
   "id": "3b81380c",
   "metadata": {},
   "source": []
  }
 ],
 "metadata": {
  "kernelspec": {
   "display_name": "gcd",
   "language": "python",
   "name": "python3"
  },
  "language_info": {
   "codemirror_mode": {
    "name": "ipython",
    "version": 3
   },
   "file_extension": ".py",
   "mimetype": "text/x-python",
   "name": "python",
   "nbconvert_exporter": "python",
   "pygments_lexer": "ipython3",
   "version": "3.12.11"
  }
 },
 "nbformat": 4,
 "nbformat_minor": 5
}
